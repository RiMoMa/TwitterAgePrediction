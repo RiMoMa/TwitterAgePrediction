{
 "cells": [
  {
   "cell_type": "code",
   "execution_count": 1,
   "metadata": {
    "colab": {
     "base_uri": "https://localhost:8080/"
    },
    "id": "len8Qi91y5FX",
    "outputId": "5be3d953-afa4-4cea-d32e-8931f9613679",
    "scrolled": true
   },
   "outputs": [
    {
     "name": "stdout",
     "output_type": "stream",
     "text": [
      "Requirement already satisfied: wget in /home/ricardo/anaconda3/envs/whalejaguar/lib/python3.7/site-packages (3.2)\n",
      "Requirement already satisfied: unidecode in /home/ricardo/anaconda3/envs/whalejaguar/lib/python3.7/site-packages (1.3.4)\n",
      "\u001B[33mWARNING: You are using pip version 22.0.4; however, version 22.1 is available.\n",
      "You should consider upgrading via the '/home/ricardo/anaconda3/envs/whalejaguar/bin/python -m pip install --upgrade pip' command.\u001B[0m\n",
      "Requirement already satisfied: transformers in /home/ricardo/anaconda3/envs/whalejaguar/lib/python3.7/site-packages (4.17.0)\n",
      "Requirement already satisfied: importlib-metadata in /home/ricardo/anaconda3/envs/whalejaguar/lib/python3.7/site-packages (from transformers) (4.11.3)\n",
      "Requirement already satisfied: tqdm>=4.27 in /home/ricardo/anaconda3/envs/whalejaguar/lib/python3.7/site-packages (from transformers) (4.64.0)\n",
      "Requirement already satisfied: requests in /home/ricardo/anaconda3/envs/whalejaguar/lib/python3.7/site-packages (from transformers) (2.27.1)\n",
      "Requirement already satisfied: regex!=2019.12.17 in /home/ricardo/anaconda3/envs/whalejaguar/lib/python3.7/site-packages (from transformers) (2022.4.24)\n",
      "Requirement already satisfied: tokenizers!=0.11.3,>=0.11.1 in /home/ricardo/anaconda3/envs/whalejaguar/lib/python3.7/site-packages (from transformers) (0.12.1)\n",
      "Requirement already satisfied: sacremoses in /home/ricardo/anaconda3/envs/whalejaguar/lib/python3.7/site-packages (from transformers) (0.0.53)\n",
      "Requirement already satisfied: numpy>=1.17 in /home/ricardo/anaconda3/envs/whalejaguar/lib/python3.7/site-packages (from transformers) (1.21.6)\n",
      "Requirement already satisfied: filelock in /home/ricardo/anaconda3/envs/whalejaguar/lib/python3.7/site-packages (from transformers) (3.6.0)\n",
      "Requirement already satisfied: huggingface-hub<1.0,>=0.1.0 in /home/ricardo/anaconda3/envs/whalejaguar/lib/python3.7/site-packages (from transformers) (0.5.1)\n",
      "Requirement already satisfied: pyyaml>=5.1 in /home/ricardo/anaconda3/envs/whalejaguar/lib/python3.7/site-packages (from transformers) (6.0)\n",
      "Requirement already satisfied: packaging>=20.0 in /home/ricardo/anaconda3/envs/whalejaguar/lib/python3.7/site-packages (from transformers) (21.3)\n",
      "Requirement already satisfied: typing-extensions>=3.7.4.3 in /home/ricardo/anaconda3/envs/whalejaguar/lib/python3.7/site-packages (from huggingface-hub<1.0,>=0.1.0->transformers) (3.10.0.2)\n",
      "Requirement already satisfied: pyparsing!=3.0.5,>=2.0.2 in /home/ricardo/anaconda3/envs/whalejaguar/lib/python3.7/site-packages (from packaging>=20.0->transformers) (3.0.8)\n",
      "Requirement already satisfied: zipp>=0.5 in /home/ricardo/anaconda3/envs/whalejaguar/lib/python3.7/site-packages (from importlib-metadata->transformers) (3.8.0)\n",
      "Requirement already satisfied: idna<4,>=2.5 in /home/ricardo/anaconda3/envs/whalejaguar/lib/python3.7/site-packages (from requests->transformers) (3.3)\n",
      "Requirement already satisfied: charset-normalizer~=2.0.0 in /home/ricardo/anaconda3/envs/whalejaguar/lib/python3.7/site-packages (from requests->transformers) (2.0.12)\n",
      "Requirement already satisfied: certifi>=2017.4.17 in /home/ricardo/anaconda3/envs/whalejaguar/lib/python3.7/site-packages (from requests->transformers) (2021.10.8)\n",
      "Requirement already satisfied: urllib3<1.27,>=1.21.1 in /home/ricardo/anaconda3/envs/whalejaguar/lib/python3.7/site-packages (from requests->transformers) (1.26.9)\n",
      "Requirement already satisfied: six in /home/ricardo/anaconda3/envs/whalejaguar/lib/python3.7/site-packages (from sacremoses->transformers) (1.16.0)\n",
      "Requirement already satisfied: click in /home/ricardo/anaconda3/envs/whalejaguar/lib/python3.7/site-packages (from sacremoses->transformers) (8.1.3)\n",
      "Requirement already satisfied: joblib in /home/ricardo/anaconda3/envs/whalejaguar/lib/python3.7/site-packages (from sacremoses->transformers) (1.1.0)\n",
      "\u001B[33mWARNING: You are using pip version 22.0.4; however, version 22.1 is available.\n",
      "You should consider upgrading via the '/home/ricardo/anaconda3/envs/whalejaguar/bin/python -m pip install --upgrade pip' command.\u001B[0m\n",
      "Requirement already satisfied: spacy in /home/ricardo/anaconda3/envs/whalejaguar/lib/python3.7/site-packages (3.3.0)\n",
      "Requirement already satisfied: thinc<8.1.0,>=8.0.14 in /home/ricardo/anaconda3/envs/whalejaguar/lib/python3.7/site-packages (from spacy) (8.0.15)\n",
      "Requirement already satisfied: setuptools in /home/ricardo/anaconda3/envs/whalejaguar/lib/python3.7/site-packages (from spacy) (62.1.0)\n",
      "Requirement already satisfied: wasabi<1.1.0,>=0.9.1 in /home/ricardo/anaconda3/envs/whalejaguar/lib/python3.7/site-packages (from spacy) (0.9.1)\n",
      "Requirement already satisfied: preshed<3.1.0,>=3.0.2 in /home/ricardo/anaconda3/envs/whalejaguar/lib/python3.7/site-packages (from spacy) (3.0.6)\n",
      "Requirement already satisfied: tqdm<5.0.0,>=4.38.0 in /home/ricardo/anaconda3/envs/whalejaguar/lib/python3.7/site-packages (from spacy) (4.64.0)\n",
      "Requirement already satisfied: cymem<2.1.0,>=2.0.2 in /home/ricardo/anaconda3/envs/whalejaguar/lib/python3.7/site-packages (from spacy) (2.0.6)\n",
      "Requirement already satisfied: typing-extensions<4.0.0.0,>=3.7.4 in /home/ricardo/anaconda3/envs/whalejaguar/lib/python3.7/site-packages (from spacy) (3.10.0.2)\n",
      "Requirement already satisfied: pathy>=0.3.5 in /home/ricardo/anaconda3/envs/whalejaguar/lib/python3.7/site-packages (from spacy) (0.6.1)\n",
      "Requirement already satisfied: langcodes<4.0.0,>=3.2.0 in /home/ricardo/anaconda3/envs/whalejaguar/lib/python3.7/site-packages (from spacy) (3.3.0)\n",
      "Requirement already satisfied: spacy-legacy<3.1.0,>=3.0.9 in /home/ricardo/anaconda3/envs/whalejaguar/lib/python3.7/site-packages (from spacy) (3.0.9)\n",
      "Requirement already satisfied: jinja2 in /home/ricardo/anaconda3/envs/whalejaguar/lib/python3.7/site-packages (from spacy) (3.1.2)\n",
      "Requirement already satisfied: catalogue<2.1.0,>=2.0.6 in /home/ricardo/anaconda3/envs/whalejaguar/lib/python3.7/site-packages (from spacy) (2.0.7)\n",
      "Requirement already satisfied: requests<3.0.0,>=2.13.0 in /home/ricardo/anaconda3/envs/whalejaguar/lib/python3.7/site-packages (from spacy) (2.27.1)\n",
      "Requirement already satisfied: srsly<3.0.0,>=2.4.3 in /home/ricardo/anaconda3/envs/whalejaguar/lib/python3.7/site-packages (from spacy) (2.4.3)\n",
      "Requirement already satisfied: pydantic!=1.8,!=1.8.1,<1.9.0,>=1.7.4 in /home/ricardo/anaconda3/envs/whalejaguar/lib/python3.7/site-packages (from spacy) (1.8.2)\n",
      "Requirement already satisfied: packaging>=20.0 in /home/ricardo/anaconda3/envs/whalejaguar/lib/python3.7/site-packages (from spacy) (21.3)\n",
      "Requirement already satisfied: blis<0.8.0,>=0.4.0 in /home/ricardo/anaconda3/envs/whalejaguar/lib/python3.7/site-packages (from spacy) (0.7.7)\n",
      "Requirement already satisfied: numpy>=1.15.0 in /home/ricardo/anaconda3/envs/whalejaguar/lib/python3.7/site-packages (from spacy) (1.21.6)\n",
      "Requirement already satisfied: typer<0.5.0,>=0.3.0 in /home/ricardo/anaconda3/envs/whalejaguar/lib/python3.7/site-packages (from spacy) (0.4.1)\n",
      "Requirement already satisfied: spacy-loggers<2.0.0,>=1.0.0 in /home/ricardo/anaconda3/envs/whalejaguar/lib/python3.7/site-packages (from spacy) (1.0.2)\n",
      "Requirement already satisfied: murmurhash<1.1.0,>=0.28.0 in /home/ricardo/anaconda3/envs/whalejaguar/lib/python3.7/site-packages (from spacy) (1.0.7)\n",
      "Requirement already satisfied: zipp>=0.5 in /home/ricardo/anaconda3/envs/whalejaguar/lib/python3.7/site-packages (from catalogue<2.1.0,>=2.0.6->spacy) (3.8.0)\n",
      "Requirement already satisfied: pyparsing!=3.0.5,>=2.0.2 in /home/ricardo/anaconda3/envs/whalejaguar/lib/python3.7/site-packages (from packaging>=20.0->spacy) (3.0.8)\n",
      "Requirement already satisfied: smart-open<6.0.0,>=5.0.0 in /home/ricardo/anaconda3/envs/whalejaguar/lib/python3.7/site-packages (from pathy>=0.3.5->spacy) (5.2.1)\n",
      "Requirement already satisfied: idna<4,>=2.5 in /home/ricardo/anaconda3/envs/whalejaguar/lib/python3.7/site-packages (from requests<3.0.0,>=2.13.0->spacy) (3.3)\n",
      "Requirement already satisfied: charset-normalizer~=2.0.0 in /home/ricardo/anaconda3/envs/whalejaguar/lib/python3.7/site-packages (from requests<3.0.0,>=2.13.0->spacy) (2.0.12)\n",
      "Requirement already satisfied: urllib3<1.27,>=1.21.1 in /home/ricardo/anaconda3/envs/whalejaguar/lib/python3.7/site-packages (from requests<3.0.0,>=2.13.0->spacy) (1.26.9)\n",
      "Requirement already satisfied: certifi>=2017.4.17 in /home/ricardo/anaconda3/envs/whalejaguar/lib/python3.7/site-packages (from requests<3.0.0,>=2.13.0->spacy) (2021.10.8)\n"
     ]
    },
    {
     "name": "stdout",
     "output_type": "stream",
     "text": [
      "Requirement already satisfied: click<9.0.0,>=7.1.1 in /home/ricardo/anaconda3/envs/whalejaguar/lib/python3.7/site-packages (from typer<0.5.0,>=0.3.0->spacy) (8.1.3)\n",
      "Requirement already satisfied: importlib-metadata in /home/ricardo/anaconda3/envs/whalejaguar/lib/python3.7/site-packages (from click<9.0.0,>=7.1.1->typer<0.5.0,>=0.3.0->spacy) (4.11.3)\n",
      "Requirement already satisfied: MarkupSafe>=2.0 in /home/ricardo/anaconda3/envs/whalejaguar/lib/python3.7/site-packages (from jinja2->spacy) (2.1.1)\n",
      "\u001B[33mWARNING: You are using pip version 22.0.4; however, version 22.1 is available.\n",
      "You should consider upgrading via the '/home/ricardo/anaconda3/envs/whalejaguar/bin/python -m pip install --upgrade pip' command.\u001B[0m\n",
      "Collecting es-core-news-sm==3.3.0\n",
      "  Downloading https://github.com/explosion/spacy-models/releases/download/es_core_news_sm-3.3.0/es_core_news_sm-3.3.0-py3-none-any.whl (12.9 MB)\n",
      "\u001B[K     |████████████████████████████████| 12.9 MB 5.1 MB/s eta 0:00:01\n",
      "\u001B[?25hRequirement already satisfied: es_core_news_sm in /home/ricardo/anaconda3/envs/whalejaguar/lib/python3.7/site-packages (3.3.0)\n",
      "Requirement already satisfied: spacy<3.4.0,>=3.3.0.dev0 in /home/ricardo/anaconda3/envs/whalejaguar/lib/python3.7/site-packages (from es-core-news-sm==3.3.0) (3.3.0)\n",
      "Requirement already satisfied: spacy-loggers<2.0.0,>=1.0.0 in /home/ricardo/anaconda3/envs/whalejaguar/lib/python3.7/site-packages (from spacy<3.4.0,>=3.3.0.dev0->es-core-news-sm==3.3.0) (1.0.2)\n",
      "Requirement already satisfied: spacy-legacy<3.1.0,>=3.0.9 in /home/ricardo/anaconda3/envs/whalejaguar/lib/python3.7/site-packages (from spacy<3.4.0,>=3.3.0.dev0->es-core-news-sm==3.3.0) (3.0.9)\n",
      "Requirement already satisfied: srsly<3.0.0,>=2.4.3 in /home/ricardo/anaconda3/envs/whalejaguar/lib/python3.7/site-packages (from spacy<3.4.0,>=3.3.0.dev0->es-core-news-sm==3.3.0) (2.4.3)\n",
      "Requirement already satisfied: catalogue<2.1.0,>=2.0.6 in /home/ricardo/anaconda3/envs/whalejaguar/lib/python3.7/site-packages (from spacy<3.4.0,>=3.3.0.dev0->es-core-news-sm==3.3.0) (2.0.7)\n",
      "Requirement already satisfied: requests<3.0.0,>=2.13.0 in /home/ricardo/anaconda3/envs/whalejaguar/lib/python3.7/site-packages (from spacy<3.4.0,>=3.3.0.dev0->es-core-news-sm==3.3.0) (2.27.1)\n",
      "Requirement already satisfied: blis<0.8.0,>=0.4.0 in /home/ricardo/anaconda3/envs/whalejaguar/lib/python3.7/site-packages (from spacy<3.4.0,>=3.3.0.dev0->es-core-news-sm==3.3.0) (0.7.7)\n",
      "Requirement already satisfied: cymem<2.1.0,>=2.0.2 in /home/ricardo/anaconda3/envs/whalejaguar/lib/python3.7/site-packages (from spacy<3.4.0,>=3.3.0.dev0->es-core-news-sm==3.3.0) (2.0.6)\n",
      "Requirement already satisfied: packaging>=20.0 in /home/ricardo/anaconda3/envs/whalejaguar/lib/python3.7/site-packages (from spacy<3.4.0,>=3.3.0.dev0->es-core-news-sm==3.3.0) (21.3)\n",
      "Requirement already satisfied: wasabi<1.1.0,>=0.9.1 in /home/ricardo/anaconda3/envs/whalejaguar/lib/python3.7/site-packages (from spacy<3.4.0,>=3.3.0.dev0->es-core-news-sm==3.3.0) (0.9.1)\n",
      "Requirement already satisfied: preshed<3.1.0,>=3.0.2 in /home/ricardo/anaconda3/envs/whalejaguar/lib/python3.7/site-packages (from spacy<3.4.0,>=3.3.0.dev0->es-core-news-sm==3.3.0) (3.0.6)\n",
      "Requirement already satisfied: pathy>=0.3.5 in /home/ricardo/anaconda3/envs/whalejaguar/lib/python3.7/site-packages (from spacy<3.4.0,>=3.3.0.dev0->es-core-news-sm==3.3.0) (0.6.1)\n",
      "Requirement already satisfied: jinja2 in /home/ricardo/anaconda3/envs/whalejaguar/lib/python3.7/site-packages (from spacy<3.4.0,>=3.3.0.dev0->es-core-news-sm==3.3.0) (3.1.2)\n",
      "Requirement already satisfied: murmurhash<1.1.0,>=0.28.0 in /home/ricardo/anaconda3/envs/whalejaguar/lib/python3.7/site-packages (from spacy<3.4.0,>=3.3.0.dev0->es-core-news-sm==3.3.0) (1.0.7)\n",
      "Requirement already satisfied: tqdm<5.0.0,>=4.38.0 in /home/ricardo/anaconda3/envs/whalejaguar/lib/python3.7/site-packages (from spacy<3.4.0,>=3.3.0.dev0->es-core-news-sm==3.3.0) (4.64.0)\n",
      "Requirement already satisfied: langcodes<4.0.0,>=3.2.0 in /home/ricardo/anaconda3/envs/whalejaguar/lib/python3.7/site-packages (from spacy<3.4.0,>=3.3.0.dev0->es-core-news-sm==3.3.0) (3.3.0)\n",
      "Requirement already satisfied: pydantic!=1.8,!=1.8.1,<1.9.0,>=1.7.4 in /home/ricardo/anaconda3/envs/whalejaguar/lib/python3.7/site-packages (from spacy<3.4.0,>=3.3.0.dev0->es-core-news-sm==3.3.0) (1.8.2)\n",
      "Requirement already satisfied: typer<0.5.0,>=0.3.0 in /home/ricardo/anaconda3/envs/whalejaguar/lib/python3.7/site-packages (from spacy<3.4.0,>=3.3.0.dev0->es-core-news-sm==3.3.0) (0.4.1)\n",
      "Requirement already satisfied: typing-extensions<4.0.0.0,>=3.7.4 in /home/ricardo/anaconda3/envs/whalejaguar/lib/python3.7/site-packages (from spacy<3.4.0,>=3.3.0.dev0->es-core-news-sm==3.3.0) (3.10.0.2)\n",
      "Requirement already satisfied: numpy>=1.15.0 in /home/ricardo/anaconda3/envs/whalejaguar/lib/python3.7/site-packages (from spacy<3.4.0,>=3.3.0.dev0->es-core-news-sm==3.3.0) (1.21.6)\n",
      "Requirement already satisfied: thinc<8.1.0,>=8.0.14 in /home/ricardo/anaconda3/envs/whalejaguar/lib/python3.7/site-packages (from spacy<3.4.0,>=3.3.0.dev0->es-core-news-sm==3.3.0) (8.0.15)\n",
      "Requirement already satisfied: setuptools in /home/ricardo/anaconda3/envs/whalejaguar/lib/python3.7/site-packages (from spacy<3.4.0,>=3.3.0.dev0->es-core-news-sm==3.3.0) (62.1.0)\n",
      "Requirement already satisfied: zipp>=0.5 in /home/ricardo/anaconda3/envs/whalejaguar/lib/python3.7/site-packages (from catalogue<2.1.0,>=2.0.6->spacy<3.4.0,>=3.3.0.dev0->es-core-news-sm==3.3.0) (3.8.0)\n",
      "Requirement already satisfied: pyparsing!=3.0.5,>=2.0.2 in /home/ricardo/anaconda3/envs/whalejaguar/lib/python3.7/site-packages (from packaging>=20.0->spacy<3.4.0,>=3.3.0.dev0->es-core-news-sm==3.3.0) (3.0.8)\n",
      "Requirement already satisfied: smart-open<6.0.0,>=5.0.0 in /home/ricardo/anaconda3/envs/whalejaguar/lib/python3.7/site-packages (from pathy>=0.3.5->spacy<3.4.0,>=3.3.0.dev0->es-core-news-sm==3.3.0) (5.2.1)\n",
      "Requirement already satisfied: charset-normalizer~=2.0.0 in /home/ricardo/anaconda3/envs/whalejaguar/lib/python3.7/site-packages (from requests<3.0.0,>=2.13.0->spacy<3.4.0,>=3.3.0.dev0->es-core-news-sm==3.3.0) (2.0.12)\n",
      "Requirement already satisfied: certifi>=2017.4.17 in /home/ricardo/anaconda3/envs/whalejaguar/lib/python3.7/site-packages (from requests<3.0.0,>=2.13.0->spacy<3.4.0,>=3.3.0.dev0->es-core-news-sm==3.3.0) (2021.10.8)\n",
      "Requirement already satisfied: idna<4,>=2.5 in /home/ricardo/anaconda3/envs/whalejaguar/lib/python3.7/site-packages (from requests<3.0.0,>=2.13.0->spacy<3.4.0,>=3.3.0.dev0->es-core-news-sm==3.3.0) (3.3)\n",
      "Requirement already satisfied: urllib3<1.27,>=1.21.1 in /home/ricardo/anaconda3/envs/whalejaguar/lib/python3.7/site-packages (from requests<3.0.0,>=2.13.0->spacy<3.4.0,>=3.3.0.dev0->es-core-news-sm==3.3.0) (1.26.9)\n",
      "Requirement already satisfied: click<9.0.0,>=7.1.1 in /home/ricardo/anaconda3/envs/whalejaguar/lib/python3.7/site-packages (from typer<0.5.0,>=0.3.0->spacy<3.4.0,>=3.3.0.dev0->es-core-news-sm==3.3.0) (8.1.3)\n",
      "Requirement already satisfied: importlib-metadata in /home/ricardo/anaconda3/envs/whalejaguar/lib/python3.7/site-packages (from click<9.0.0,>=7.1.1->typer<0.5.0,>=0.3.0->spacy<3.4.0,>=3.3.0.dev0->es-core-news-sm==3.3.0) (4.11.3)\n",
      "Requirement already satisfied: MarkupSafe>=2.0 in /home/ricardo/anaconda3/envs/whalejaguar/lib/python3.7/site-packages (from jinja2->spacy<3.4.0,>=3.3.0.dev0->es-core-news-sm==3.3.0) (2.1.1)\n",
      "\u001B[33mWARNING: You are using pip version 22.0.4; however, version 22.1 is available.\n",
      "You should consider upgrading via the '/home/ricardo/anaconda3/envs/whalejaguar/bin/python -m pip install --upgrade pip' command.\u001B[0m\n",
      "\u001B[38;5;2m✔ Download and installation successful\u001B[0m\n",
      "You can now load the package via spacy.load('es_core_news_sm')\n"
     ]
    }
   ],
   "source": [
    "!pip install wget unidecode\n",
    "!pip install transformers\n",
    "!pip install spacy\n",
    "\n",
    "!python -m spacy download es_core_news_sm 'es_core_news_sm'"
   ]
  },
  {
   "cell_type": "code",
   "execution_count": 2,
   "metadata": {
    "id": "W6jl8x_KF8GK",
    "scrolled": true
   },
   "outputs": [],
   "source": [
    "\n",
    "#some libraries from https://www.analyticsvidhya.com/blog/2021/06/text-preprocessing-in-nlp-with-python-codes/\n",
    "\n",
    "#library that contains punctuation\n",
    "\n",
    "def remove_punctuation(text):\n",
    "    import string\n",
    "\n",
    "    punctuationfree=\"\".join([i if i not in string.punctuation else ' ' for i in text])\n",
    "    return punctuationfree\n",
    "\n",
    "def count_punctuation(text):\n",
    "    from numpy import sum\n",
    "    count = 0\n",
    "    punctuationfree=[len(i)+count for i in text if i in string.punctuation]\n",
    "    return sum(punctuationfree)\n",
    "\n",
    "\n",
    "def remove_hashs(text):\n",
    "    import re\n",
    "    raw_tweet = ' '.join(re.sub(\"(#[A-Za-z0-9_]+)|(\\w+:\\/\\/\\S+)\",\" \",text).split())\n",
    "    return raw_tweet\n",
    "\n",
    "def separate_users(text):\n",
    "    import re\n",
    "    raw_tweet = ' '.join(re.findall(\"(@[A-Za-z0-9_]+)\" ,text))\n",
    "    return raw_tweet\n",
    "\n",
    "\n",
    "def separate_hashtags(text):\n",
    "    import re\n",
    "    raw_tweet = ' '.join(re.findall(\"(#[A-Za-z0-9]+)\", text))\n",
    "    return raw_tweet\n",
    "def separate_urls(text):\n",
    "    import re\n",
    "    raw_tweet = ' '.join(re.findall(\"(https?://\\S+|www\\.\\S+)\", text))\n",
    "    return raw_tweet\n",
    "r'https?://\\S+|www\\.\\S+'\n",
    "\n",
    "\n",
    "def remove_users(text) :\n",
    "    import re\n",
    "    raw_tweet = ' '.join(re.sub(\"(@[A-Za-z0-9_]+)\",\" \",text).split())\n",
    "    return raw_tweet\n",
    "    #data['msg_lower'] = data['clean_msg'].apply(lambda x: x.lower())\n",
    "\n",
    "def remove_hashtags(text):\n",
    "    import re\n",
    "    raw_tweet = ' '.join(re.sub(\"(#[A-Za-z0-9]+)\", \" \", text).split())\n",
    "    return raw_tweet\n",
    "    # data['msg_lower'] = data['clean_msg'].apply(lambda x: x.lower())\n",
    "\n",
    "def remove_hash_symbol(text):\n",
    "    import re\n",
    "    raw_tweet = ' '.join(re.sub(\"(#)\", \"\", text).split())\n",
    "    return raw_tweet\n",
    "\n",
    "def remove_at_symbol(text):\n",
    "    import re\n",
    "    raw_tweet = ' '.join(re.sub(\"(@)\", \"\", text).split())\n",
    "    return raw_tweet\n",
    "\n",
    "    import nltk\n",
    "    nltk.download('stopwords')\n",
    "def remove_stopwords(text):\n",
    "    import nltk\n",
    "   # nltk.download('stopwords')\n",
    "    stopword = nltk.corpus.stopwords.words('spanish')\n",
    "    text = ' '.join([word for word in text.split() if word not in stopword])\n",
    "    return text\n",
    "\n",
    "def Separate_hashtag_words(s):\n",
    "    import re\n",
    "    return ' '.join(re.split(r'(?=[A-Z])', s))\n",
    "\n",
    "def Separate_at_words(s):\n",
    "    import re\n",
    "    return ' '.join(re.split(r'(?=[A-Z])', s))\n",
    "\n",
    "\n",
    "\n",
    "#def separate_hash(text):\n",
    "  #  text = ' '.join([word for word in text.split() if word not in stopword])\n",
    "\n",
    "\n",
    "def lemmatization(text):\n",
    "  #ToDo: try other lemma Stanford CoreNLP or FreeLing. \n",
    "  \n",
    "    import spacy\n",
    "    import es_core_news_sm\n",
    "    nlp = es_core_news_sm.load()\n",
    "   # nlp = spacy.load(\"es_core_news_sm\")\n",
    "    doc = nlp(text)\n",
    "    Lemma = doc[:].lemma_\n",
    "    return Lemma\n",
    "\n",
    "\n",
    "def Build_dictionary(data):\n",
    "    import pandas as pd\n",
    "    data = pd.DataFrame(data)\n",
    "    import unidecode\n",
    "\n",
    "    from nltk.stem.porter import PorterStemmer\n",
    "#    dataC = ' '.join(data.to_list())\n",
    "    data['copy'] = data['text']\n",
    "    data['text'] = data['text'].apply(lambda x: remove_hashs(x))\n",
    "    data['text'] = data.text.apply(lambda x: unidecode.unidecode(x))\n",
    "    data['text'] = data['text'].apply(lambda x: remove_users(x))\n",
    "\n",
    "    stemmer = PorterStemmer()\n",
    "    data['text'] = data.text.apply(lambda x: stemmer.stem(x))  # to remove s (to singular)\n",
    "#    data['text4'] = data.text.apply(lambda x: remove_stopwords(x))  # remove stop words, english and spanish\n",
    "    data[\"text\"] = data[\"text\"].str.replace(r'https?://\\S+|www\\.\\S+', ' ').str.strip()  # to delete all URLS\n",
    "    data[\"text\"] = data[\"text\"].str.replace(r'\\n', ' ').str.strip()  # to delete all '\\n'\n",
    "    data['text'] = data['text'].apply(lambda x: x.lower())\n",
    "    # data['text'] = data.text.apply(lambda x: re.split('@\\/\\/*', str(x))[0]) # to delete all URLS\n",
    "    all_words = ' '.join(data.text.to_list()).split()\n",
    "    import tensorflow as tf\n",
    "    from tensorflow.keras.preprocessing.text import Tokenizer\n",
    "    tokenizer = Tokenizer(num_words=1000,oov_token=\"<OOV>\",char_level=True)\n",
    "    tokenizer.fit_on_texts(all_words)\n",
    "    word_index = tokenizer.word_index\n",
    "    Tokens_words = tokenizer.texts_to_sequences(all_words)\n",
    "    maxlen = 0\n",
    "    for i in range(len(Tokens_words)):\n",
    "        if len(Tokens_words[i]) > maxlen:\n",
    "            maxlen = len(Tokens_words[i])\n",
    "            idx_large = i\n",
    "            print(all_words[idx_large])\n",
    "\n",
    "\n",
    "    Tokens_padded = tf.keras.preprocessing.sequence.pad_sequences(Tokens_words, maxlen=19, padding='post')\n",
    "    from sklearn_extra.cluster import KMedoids\n",
    "    import numpy as np\n",
    "\n",
    "    idx_ = np.random.permutation(len(Tokens_padded))\n",
    "    idx_sel = idx_[0:200000]\n",
    "\n",
    "    Tokens_words = tokenizer.texts_to_matrix(all_words, mode='freq')\n",
    "    tokens_sel = Tokens_words[idx_sel]\n",
    "    from sklearn.decomposition import NMF, LatentDirichletAllocation\n",
    "    n_samples = 50000\n",
    "    n_features = 50000\n",
    "    n_components = 250\n",
    "    n_top_words = 20\n",
    "    nmf = NMF(n_components=n_components, random_state=1, alpha=0.1, l1_ratio=0.5).fit(tokens_sel)\n",
    "\n",
    "    lda = LatentDirichletAllocation(\n",
    "        n_components=n_components,\n",
    "        max_iter=5,\n",
    "        learning_method=\"online\",\n",
    "        learning_offset=50.0,\n",
    "        random_state=0,\n",
    "    )\n",
    "    lda.fit(tokens_sel)\n",
    "\n",
    "    kmedoids = KMedoids(n_clusters=400, random_state=0).fit(tokens_sel)\n",
    "    kmedoids.labels_\n",
    "\n",
    "    kmedoids.predict([[0,0], [4,4]])\n",
    "\n",
    "    kmedoids.cluster_centers_\n",
    "\n",
    "\n",
    "    kmedoids.inertia_\n",
    "\n",
    "\n",
    "\n",
    "def plot_top_words(model, feature_names, n_top_words, title):\n",
    "    fig, axes = plt.subplots(5, 10, figsize=(30, 15), sharex=True)\n",
    "    axes = axes.flatten()\n",
    "    for topic_idx, topic in enumerate(model.components_):\n",
    "        top_features_ind = topic.argsort()[: -n_top_words - 1 : -1]\n",
    "        top_features = [feature_names[i] for i in top_features_ind]\n",
    "        weights = topic[top_features_ind]\n",
    "\n",
    "        ax = axes[topic_idx]\n",
    "        ax.barh(top_features, weights, height=0.7)\n",
    "        ax.set_title(f\"Topic {topic_idx +1}\", fontdict={\"fontsize\": 10})\n",
    "        ax.invert_yaxis()\n",
    "        ax.tick_params(axis=\"both\", which=\"major\", labelsize=7)\n",
    "        for i in \"top right left\".split():\n",
    "            ax.spines[i].set_visible(False)\n",
    "        fig.suptitle(title, fontsize=40)\n",
    "\n",
    "    plt.subplots_adjust(top=0.90, bottom=0.05, wspace=0.90, hspace=0.3)\n",
    "    plt.show()"
   ]
  },
  {
   "cell_type": "code",
   "execution_count": 3,
   "metadata": {
    "id": "KFwMBAQs4yum",
    "scrolled": true
   },
   "outputs": [],
   "source": [
    "import pandas as pd\n",
    "\n",
    "\n",
    "###OPTIONS\n",
    "data = pd.read_json('/home/ricardo/WhaleAndJaguar/test_ds_ml-main/data/clasificador/clasificador.json') #To open json of the raw data\n",
    "\n",
    "cleanDataPath = '/home/ricardo/WhaleAndJaguar/test_ds_ml-main//DataClean.pkl' # Path to save the postprocessing data"
   ]
  },
  {
   "cell_type": "code",
   "execution_count": 4,
   "metadata": {
    "pycharm": {
     "name": "#%%\n"
    },
    "scrolled": true
   },
   "outputs": [
    {
     "data": {
      "text/html": [
       "<div>\n",
       "<style scoped>\n",
       "    .dataframe tbody tr th:only-of-type {\n",
       "        vertical-align: middle;\n",
       "    }\n",
       "\n",
       "    .dataframe tbody tr th {\n",
       "        vertical-align: top;\n",
       "    }\n",
       "\n",
       "    .dataframe thead th {\n",
       "        text-align: right;\n",
       "    }\n",
       "</style>\n",
       "<table border=\"1\" class=\"dataframe\">\n",
       "  <thead>\n",
       "    <tr style=\"text-align: right;\">\n",
       "      <th></th>\n",
       "      <th>text</th>\n",
       "      <th>age_range</th>\n",
       "    </tr>\n",
       "  </thead>\n",
       "  <tbody>\n",
       "    <tr>\n",
       "      <th>0</th>\n",
       "      <td>@gusgomez1701 @YaKoDj @TropiBogota @Apple @Hua...</td>\n",
       "      <td>50-64</td>\n",
       "    </tr>\n",
       "    <tr>\n",
       "      <th>1</th>\n",
       "      <td>@jlmorales5 Sol Campbell, Per Mertesacker, Ver...</td>\n",
       "      <td>13-17</td>\n",
       "    </tr>\n",
       "    <tr>\n",
       "      <th>2</th>\n",
       "      <td>LA DIGNIDAD COMIENZA POR RESPETAR LA VIDA Y NO...</td>\n",
       "      <td>18-24</td>\n",
       "    </tr>\n",
       "    <tr>\n",
       "      <th>3</th>\n",
       "      <td>@munqueik roba3</td>\n",
       "      <td>18-24</td>\n",
       "    </tr>\n",
       "    <tr>\n",
       "      <th>4</th>\n",
       "      <td>Necesito ayuda</td>\n",
       "      <td>18-24</td>\n",
       "    </tr>\n",
       "  </tbody>\n",
       "</table>\n",
       "</div>"
      ],
      "text/plain": [
       "                                                text age_range\n",
       "0  @gusgomez1701 @YaKoDj @TropiBogota @Apple @Hua...     50-64\n",
       "1  @jlmorales5 Sol Campbell, Per Mertesacker, Ver...     13-17\n",
       "2  LA DIGNIDAD COMIENZA POR RESPETAR LA VIDA Y NO...     18-24\n",
       "3                                    @munqueik roba3     18-24\n",
       "4                                     Necesito ayuda     18-24"
      ]
     },
     "execution_count": 4,
     "metadata": {},
     "output_type": "execute_result"
    }
   ],
   "source": [
    "data.head()"
   ]
  },
  {
   "cell_type": "code",
   "execution_count": null,
   "metadata": {
    "scrolled": true
   },
   "outputs": [],
   "source": []
  },
  {
   "cell_type": "code",
   "execution_count": 5,
   "metadata": {
    "colab": {
     "base_uri": "https://localhost:8080/"
    },
    "id": "1kTcFDow7Kcm",
    "outputId": "bc24509f-4d90-44a5-bfb6-40f58c1d23d4",
    "scrolled": true
   },
   "outputs": [
    {
     "name": "stderr",
     "output_type": "stream",
     "text": [
      "[nltk_data] Downloading package stopwords to\n",
      "[nltk_data]     /home/ricardo/nltk_data...\n",
      "[nltk_data]   Package stopwords is already up-to-date!\n"
     ]
    },
    {
     "data": {
      "text/plain": [
       "True"
      ]
     },
     "execution_count": 5,
     "metadata": {},
     "output_type": "execute_result"
    }
   ],
   "source": [
    "import nltk\n",
    "nltk.download('stopwords')"
   ]
  },
  {
   "cell_type": "code",
   "execution_count": 6,
   "metadata": {
    "colab": {
     "base_uri": "https://localhost:8080/"
    },
    "id": "1kTcFDow7Kcm",
    "outputId": "bc24509f-4d90-44a5-bfb6-40f58c1d23d4",
    "scrolled": true
   },
   "outputs": [
    {
     "name": "stdout",
     "output_type": "stream",
     "text": [
      "1.3.5\n"
     ]
    },
    {
     "name": "stderr",
     "output_type": "stream",
     "text": [
      "[nltk_data] Downloading package stopwords to\n",
      "[nltk_data]     /home/ricardo/nltk_data...\n",
      "[nltk_data]   Package stopwords is already up-to-date!\n"
     ]
    }
   ],
   "source": [
    "import nltk\n",
    "nltk.download('stopwords')\n",
    "import pandas as pd\n",
    "print(pd.__version__)"
   ]
  },
  {
   "cell_type": "code",
   "execution_count": 7,
   "metadata": {
    "colab": {
     "base_uri": "https://localhost:8080/"
    },
    "id": "kOjzwIc307GV",
    "outputId": "f5b589e1-154f-47c1-d9c9-fac9c85524c4",
    "scrolled": true
   },
   "outputs": [
    {
     "name": "stderr",
     "output_type": "stream",
     "text": [
      "/home/ricardo/anaconda3/envs/whalejaguar/lib/python3.7/site-packages/ipykernel_launcher.py:31: FutureWarning: The default value of regex will change from True to False in a future version.\n",
      "/home/ricardo/anaconda3/envs/whalejaguar/lib/python3.7/site-packages/ipykernel_launcher.py:32: FutureWarning: The default value of regex will change from True to False in a future version.\n"
     ]
    }
   ],
   "source": [
    "from multiprocessing import  Pool\n",
    "import  numpy as np\n",
    "import re\n",
    "import os.path\n",
    "#import functions to clean data\n",
    "import unidecode\n",
    "from nltk.stem import *\n",
    "from nltk.stem.porter import *\n",
    "\n",
    "import timeit\n",
    "\n",
    "start = timeit.default_timer()\n",
    "\n",
    "#load Original Data\n",
    "label_text = data['age_range'].unique()#To determine ranges or classes\n",
    "label_text.sort() # organize the age ranges\n",
    "for n in range(len(label_text)):\n",
    "    data['age_range']=data.age_range.replace(label_text[n], n) #to remplace the str class with a numerical class\n",
    "\n",
    "label_n = np.array(range(len(label_text)))#To define numerical classes associated with age-ranges\n",
    "# to divide the data in user, hasgtags and text\n",
    "data['users']=data.text.apply(lambda x:separate_users(x))\n",
    "data['Hashtags']=data.text.apply(lambda x:separate_hashtags(x))\n",
    "data['copy']=data['text']\n",
    "stemmer = PorterStemmer() #stemmer class\n",
    "data['text'] = data.text.apply(lambda x: stemmer.stem(x)) #to remove s (to singular)\n",
    "data['text'] = data.text.apply(lambda x: unidecode.unidecode(x)) #to covert all in ascii\n",
    "data['text'] = data.text.apply(lambda x: remove_users(x)) # to remove users\n",
    "data['text'] = data.text.apply(lambda x: remove_hashtags(x)) #to remove hastags\n",
    "data['text'] = data.text.apply(lambda x: remove_stopwords(x)) # remove stop words, and spanish\n",
    "data[\"text\"] = data[\"text\"].str.replace(r'https?://\\S+|www\\.\\S+', ' ').str.strip() # to delete all URLS\n",
    "data[\"text\"] = data[\"text\"].str.replace(r'\\n', ' ').str.strip() # to delete all '\\n'\n",
    "data['text'] = data['text'].apply(lambda x:remove_punctuation(x)) #delete punctuation"
   ]
  },
  {
   "cell_type": "code",
   "execution_count": 8,
   "metadata": {},
   "outputs": [
    {
     "data": {
      "text/plain": [
       "text                          amen\n",
       "age_range                        4\n",
       "users             @oracion_milagro\n",
       "Hashtags                          \n",
       "copy         @oracion_milagro Amén\n",
       "Name: 42, dtype: object"
      ]
     },
     "execution_count": 8,
     "metadata": {},
     "output_type": "execute_result"
    }
   ],
   "source": [
    "data.iloc[42]"
   ]
  },
  {
   "cell_type": "code",
   "execution_count": 9,
   "metadata": {
    "colab": {
     "base_uri": "https://localhost:8080/"
    },
    "id": "kOjzwIc307GV",
    "outputId": "f5b589e1-154f-47c1-d9c9-fac9c85524c4",
    "scrolled": true
   },
   "outputs": [
    {
     "name": "stdout",
     "output_type": "stream",
     "text": [
      "open lemma\n",
      "Time:  5.434652794996509\n"
     ]
    }
   ],
   "source": [
    "### FUNCTION TO LEMMAZATION THE DATA IN PARALLEL\n",
    "def lemmaParallel(data):\n",
    "    data['textLemma'] = data['text'].apply(lambda x:lemmatization(x))\n",
    "    return data\n",
    "\n",
    "def parallelize_dataframe(df, func, n_cores=16):\n",
    "    df_split = np.array_split(df, n_cores)\n",
    "    pool = Pool(n_cores)\n",
    "    df = pd.concat(pool.map(func, df_split))\n",
    "    pool.close()\n",
    "    pool.join()\n",
    "    return df\n",
    "\n",
    "### IF DOES NOT EXIST THE LEMMA DATA THEN EXCUTE THE FUNCTION IF EXIST OPEN THE DATA\n",
    "if not os.path.exists(cleanDataPath):\n",
    "    print('Lemma')\n",
    "    data = parallelize_dataframe(data,lemmaParallel)\n",
    "    data.to_pickle(cleanDataPath)\n",
    "    \n",
    "else:\n",
    "    print('open lemma')\n",
    "    data = pd.read_pickle(cleanDataPath)\n",
    "\n",
    "\n",
    "stop = timeit.default_timer()\n",
    "\n",
    "print('Time: ', stop - start)"
   ]
  },
  {
   "cell_type": "code",
   "execution_count": 10,
   "metadata": {},
   "outputs": [
    {
     "data": {
      "text/plain": [
       "text                          amen\n",
       "age_range                        4\n",
       "users             @oracion_milagro\n",
       "Hashtags                          \n",
       "copy         @oracion_milagro Amén\n",
       "textLemma                     amen\n",
       "Name: 42, dtype: object"
      ]
     },
     "execution_count": 10,
     "metadata": {},
     "output_type": "execute_result"
    }
   ],
   "source": [
    "data.iloc[42]"
   ]
  },
  {
   "cell_type": "code",
   "execution_count": null,
   "metadata": {},
   "outputs": [],
   "source": []
  },
  {
   "cell_type": "code",
   "execution_count": 11,
   "metadata": {
    "scrolled": true
   },
   "outputs": [
    {
     "data": {
      "text/html": [
       "<div>\n",
       "<style scoped>\n",
       "    .dataframe tbody tr th:only-of-type {\n",
       "        vertical-align: middle;\n",
       "    }\n",
       "\n",
       "    .dataframe tbody tr th {\n",
       "        vertical-align: top;\n",
       "    }\n",
       "\n",
       "    .dataframe thead th {\n",
       "        text-align: right;\n",
       "    }\n",
       "</style>\n",
       "<table border=\"1\" class=\"dataframe\">\n",
       "  <thead>\n",
       "    <tr style=\"text-align: right;\">\n",
       "      <th></th>\n",
       "      <th>text</th>\n",
       "      <th>age_range</th>\n",
       "      <th>users</th>\n",
       "      <th>Hashtags</th>\n",
       "      <th>copy</th>\n",
       "      <th>textLemma</th>\n",
       "    </tr>\n",
       "  </thead>\n",
       "  <tbody>\n",
       "    <tr>\n",
       "      <th>0</th>\n",
       "      <td>modelo huawei don gustavo</td>\n",
       "      <td>4</td>\n",
       "      <td>@gusgomez1701 @YaKoDj @TropiBogota @Apple @Hua...</td>\n",
       "      <td></td>\n",
       "      <td>@gusgomez1701 @YaKoDj @TropiBogota @Apple @Hua...</td>\n",
       "      <td>modelo huawei don gustavo</td>\n",
       "    </tr>\n",
       "    <tr>\n",
       "      <th>1</th>\n",
       "      <td>sol campbell  per mertesacker  vermaelen chapa...</td>\n",
       "      <td>0</td>\n",
       "      <td>@jlmorales5</td>\n",
       "      <td></td>\n",
       "      <td>@jlmorales5 Sol Campbell, Per Mertesacker, Ver...</td>\n",
       "      <td>sol campbell  per mertesacker  vermaelar chapa...</td>\n",
       "    </tr>\n",
       "    <tr>\n",
       "      <th>2</th>\n",
       "      <td>dignidad comienza respetar vida asesinato sele...</td>\n",
       "      <td>1</td>\n",
       "      <td>@La</td>\n",
       "      <td></td>\n",
       "      <td>LA DIGNIDAD COMIENZA POR RESPETAR LA VIDA Y NO...</td>\n",
       "      <td>dignidad comenzar respetar vida asesinato sele...</td>\n",
       "    </tr>\n",
       "    <tr>\n",
       "      <th>3</th>\n",
       "      <td>roba3</td>\n",
       "      <td>1</td>\n",
       "      <td>@munqueik</td>\n",
       "      <td></td>\n",
       "      <td>@munqueik roba3</td>\n",
       "      <td>roba3</td>\n",
       "    </tr>\n",
       "    <tr>\n",
       "      <th>4</th>\n",
       "      <td>necesito ayuda</td>\n",
       "      <td>1</td>\n",
       "      <td></td>\n",
       "      <td></td>\n",
       "      <td>Necesito ayuda</td>\n",
       "      <td>necesitar ayuda</td>\n",
       "    </tr>\n",
       "  </tbody>\n",
       "</table>\n",
       "</div>"
      ],
      "text/plain": [
       "                                                text  age_range  \\\n",
       "0                         modelo huawei don gustavo           4   \n",
       "1  sol campbell  per mertesacker  vermaelen chapa...          0   \n",
       "2  dignidad comienza respetar vida asesinato sele...          1   \n",
       "3                                              roba3          1   \n",
       "4                                     necesito ayuda          1   \n",
       "\n",
       "                                               users Hashtags  \\\n",
       "0  @gusgomez1701 @YaKoDj @TropiBogota @Apple @Hua...            \n",
       "1                                        @jlmorales5            \n",
       "2                                                @La            \n",
       "3                                          @munqueik            \n",
       "4                                                               \n",
       "\n",
       "                                                copy  \\\n",
       "0  @gusgomez1701 @YaKoDj @TropiBogota @Apple @Hua...   \n",
       "1  @jlmorales5 Sol Campbell, Per Mertesacker, Ver...   \n",
       "2  LA DIGNIDAD COMIENZA POR RESPETAR LA VIDA Y NO...   \n",
       "3                                    @munqueik roba3   \n",
       "4                                     Necesito ayuda   \n",
       "\n",
       "                                           textLemma  \n",
       "0                          modelo huawei don gustavo  \n",
       "1  sol campbell  per mertesacker  vermaelar chapa...  \n",
       "2  dignidad comenzar respetar vida asesinato sele...  \n",
       "3                                              roba3  \n",
       "4                                    necesitar ayuda  "
      ]
     },
     "execution_count": 11,
     "metadata": {},
     "output_type": "execute_result"
    }
   ],
   "source": [
    "data.head()"
   ]
  },
  {
   "cell_type": "markdown",
   "metadata": {
    "id": "0QA9w6dbwfzz"
   },
   "source": [
    "# BERT Fine Tuning for Multi Class Text Classification \n",
    "\n",
    "This notebook contains code to fine tune a pretrained BERT language model to a specific classification task. \n",
    "As BERT model interface the Huggingface library with a PyTorch backend is used.\n",
    "\n",
    "In this notebook, the model has been fine tuned with the English Dataset but could easily be fine tuned on any other classification dataset.\n",
    "\n",
    "The code was implemented based on the huggingface example scripts for glue tasks fine tuning (https://github.com/huggingface/transformers/blob/5bfcd0485ece086ebcbed2d008813037968a9e58/examples/run_glue.py#L128) and the blog post by Chris McCormick (http://mccormickml.com/2019/07/22/BERT-fine-tuning/).\n"
   ]
  },
  {
   "cell_type": "code",
   "execution_count": 12,
   "metadata": {
    "id": "tKjjVxVDKsS1",
    "scrolled": true
   },
   "outputs": [
    {
     "name": "stderr",
     "output_type": "stream",
     "text": [
      "/home/ricardo/anaconda3/envs/whalejaguar/lib/python3.7/site-packages/tqdm/auto.py:22: TqdmWarning: IProgress not found. Please update jupyter and ipywidgets. See https://ipywidgets.readthedocs.io/en/stable/user_install.html\n",
      "  from .autonotebook import tqdm as notebook_tqdm\n"
     ]
    }
   ],
   "source": [
    "import os\n",
    "import time\n",
    "import datetime\n",
    "import random\n",
    "#from google.colab import drive\n",
    "\n",
    "import pandas as pd\n",
    "import numpy as np\n",
    "from sklearn.metrics import matthews_corrcoef\n",
    "from sklearn.metrics import accuracy_score\n",
    "\n",
    "from transformers import AutoModelForSequenceClassification\n",
    "from transformers import AutoConfig\n",
    "from transformers import AdamW\n",
    "from transformers import AutoTokenizer\n",
    "from transformers import get_linear_schedule_with_warmup\n",
    "\n",
    "import matplotlib.pyplot as plt\n",
    "import matplotlib.colors\n",
    "import seaborn as sns\n",
    "import IPython\n",
    "\n",
    "import torch\n",
    "from torch.utils.data import TensorDataset, random_split\n",
    "from torch.utils.data import DataLoader, RandomSampler, SequentialSampler"
   ]
  },
  {
   "cell_type": "code",
   "execution_count": 13,
   "metadata": {
    "colab": {
     "base_uri": "https://localhost:8080/"
    },
    "id": "RhzCltg3tR-q",
    "outputId": "5eec36b4-a3b1-4aef-9dd1-c4b84522dfbc",
    "scrolled": true
   },
   "outputs": [
    {
     "name": "stdout",
     "output_type": "stream",
     "text": [
      "There are 1 GPU(s) available.\n",
      "We will use the GPU: NVIDIA GeForce RTX 2070\n"
     ]
    }
   ],
   "source": [
    "# Empty cache of GPU\n",
    "torch.cuda.empty_cache()\n",
    "\n",
    "# If there's a GPU available...\n",
    "if torch.cuda.is_available():    \n",
    "\n",
    "    # Tell PyTorch to use the GPU.    \n",
    "    device = torch.device(\"cuda\")\n",
    "\n",
    "    print('There are %d GPU(s) available.' % torch.cuda.device_count())\n",
    "\n",
    "    print('We will use the GPU:', torch.cuda.get_device_name(0))\n",
    "\n",
    "# If not...\n",
    "else:\n",
    "    print('No GPU available, using the CPU instead.')\n",
    "    device = torch.device(\"cpu\")"
   ]
  },
  {
   "cell_type": "markdown",
   "metadata": {
    "id": "KZxf_D2gAdTO"
   },
   "source": [
    "## Load data"
   ]
  },
  {
   "cell_type": "code",
   "execution_count": 14,
   "metadata": {
    "colab": {
     "base_uri": "https://localhost:8080/",
     "height": 237
    },
    "id": "yJzGKGLX9AxN",
    "outputId": "df5621bd-2a0b-423c-fa55-beca117bad8c",
    "scrolled": true
   },
   "outputs": [],
   "source": [
    "df=data.copy()\n",
    "df.drop(df[df['textLemma'] == ''].index)\n",
    "\n",
    "### To separate hasgtags word, remove punctuation and low\n",
    "df['Hashtags'] =df.Hashtags.apply(lambda x:Separate_hashtag_words(x)) #delete punctuation\n",
    "df['Hashtags'] = df['Hashtags'].apply(lambda x:remove_punctuation(x))\n",
    "df['Hashtags']= df['Hashtags'].apply(lambda x: x.lower())\n",
    "df['users'] = df['users'].apply(lambda x:remove_punctuation(x))\n",
    "\n",
    "df['text'] = df.users+' '+df.textLemma+' '+df.Hashtags\n",
    "df[\"text\"] = df[\"text\"].str.replace(r'  ', ' ').str.strip()  # to delete all '\\n'\n"
   ]
  },
  {
   "cell_type": "code",
   "execution_count": 15,
   "metadata": {},
   "outputs": [
    {
     "data": {
      "text/plain": [
       "text         Vive USA El Universal Mx jajajajajar oir zopi ...\n",
       "age_range                                                    4\n",
       "users                                Vive USA  El Universal Mx\n",
       "Hashtags                       zopilota   la bruja del palacio\n",
       "copy         @Vive_USA @El_Universal_Mx Jajajajaja oye Zopi...\n",
       "textLemma                     jajajajajar oir zopi  ahi hablar\n",
       "Name: 18848, dtype: object"
      ]
     },
     "execution_count": 15,
     "metadata": {},
     "output_type": "execute_result"
    }
   ],
   "source": [
    "df.iloc[18848]\n"
   ]
  },
  {
   "cell_type": "code",
   "execution_count": 16,
   "metadata": {
    "id": "UuN3olL1s1R0",
    "scrolled": true
   },
   "outputs": [],
   "source": [
    "texts = df.text.values\n",
    "label_cats = df.age_range.astype('category').cat\n",
    "\n",
    "# List of label names (str)\n",
    "label_names = label_cats.categories\n",
    "\n",
    "# List of label ids (int, in range (0,num_classes-1))\n",
    "labels = label_cats.codes"
   ]
  },
  {
   "cell_type": "code",
   "execution_count": 17,
   "metadata": {},
   "outputs": [
    {
     "data": {
      "text/plain": [
       "'oracion milagro amen'"
      ]
     },
     "execution_count": 17,
     "metadata": {},
     "output_type": "execute_result"
    }
   ],
   "source": [
    "texts[42]"
   ]
  },
  {
   "cell_type": "markdown",
   "metadata": {
    "id": "fSsp_l_yoNJf"
   },
   "source": [
    "## Tokenize Data"
   ]
  },
  {
   "cell_type": "code",
   "execution_count": 18,
   "metadata": {
    "id": "5UUTkMV4yDTY",
    "scrolled": true
   },
   "outputs": [],
   "source": [
    "model_name = \"bert-base-uncased\"\n",
    "MAX_INPUT_LENGTH = 192"
   ]
  },
  {
   "cell_type": "code",
   "execution_count": 19,
   "metadata": {
    "id": "4-OE6oDZoMIG",
    "scrolled": true
   },
   "outputs": [
    {
     "name": "stdout",
     "output_type": "stream",
     "text": [
      "Loading bert-base-uncased tokenizer...\n"
     ]
    }
   ],
   "source": [
    "# Load the pretrained BERT tokenizer.\n",
    "print(f\"Loading {model_name} tokenizer...\")\n",
    "tokenizer = AutoTokenizer.from_pretrained(model_name, do_lower_case=True)"
   ]
  },
  {
   "cell_type": "code",
   "execution_count": 20,
   "metadata": {
    "id": "XDkMb1urrIAo",
    "scrolled": true
   },
   "outputs": [
    {
     "name": "stderr",
     "output_type": "stream",
     "text": [
      "Truncation was not explicitly activated but `max_length` is provided a specific value, please use `truncation=True` to explicitly truncate examples to max length. Defaulting to 'longest_first' truncation strategy. If you encode pairs of sequences (GLUE-style) with the tokenizer you can select this strategy more precisely by providing a specific strategy to `truncation`.\n",
      "/home/ricardo/anaconda3/envs/whalejaguar/lib/python3.7/site-packages/transformers/tokenization_utils_base.py:2277: FutureWarning: The `pad_to_max_length` argument is deprecated and will be removed in a future version, use `padding=True` or `padding='longest'` to pad to the longest sequence in the batch, or use `padding='max_length'` to pad to a max length. In this case, you can give a specific length with `max_length` (e.g. `max_length=45`) or leave max_length to None to pad to the maximal input size of the model (e.g. 512 for Bert).\n",
      "  FutureWarning,\n"
     ]
    }
   ],
   "source": [
    "# Tokenize all of the sentences and map the tokens to their word IDs\n",
    "input_ids = []\n",
    "attention_masks = []\n",
    "\n",
    "for text in texts:\n",
    "    encoded_dict = tokenizer.encode_plus(\n",
    "                        text,            \n",
    "                        add_special_tokens = True,\n",
    "                        max_length = MAX_INPUT_LENGTH,\n",
    "                        pad_to_max_length = True,\n",
    "                        return_attention_mask = True,\n",
    "                        return_tensors = 'pt')\n",
    "  \n",
    "    input_ids.append(encoded_dict['input_ids'])\n",
    "    attention_masks.append(encoded_dict['attention_mask'])"
   ]
  },
  {
   "cell_type": "code",
   "execution_count": 21,
   "metadata": {
    "id": "KBM6SwDHvirL",
    "scrolled": true
   },
   "outputs": [
    {
     "name": "stdout",
     "output_type": "stream",
     "text": [
      "Original:  gusgomez1701 YaKoDj TropiBogota Apple HuaweiMobileCo modelo huawei don gustavo\n",
      "Token IDs: tensor([  101, 12670,  3995,  4168,  2480, 16576, 24096,  8038,  3683,  2094,\n",
      "         3501, 19817,  7361, 12322, 22844,  2696,  6207, 23064, 19845, 17751,\n",
      "         3597,  2944,  2080, 23064, 19845,  2123, 24801,   102,     0,     0,\n",
      "            0,     0,     0,     0,     0,     0,     0,     0,     0,     0,\n",
      "            0,     0,     0,     0,     0,     0,     0,     0,     0,     0,\n",
      "            0,     0,     0,     0,     0,     0,     0,     0,     0,     0,\n",
      "            0,     0,     0,     0,     0,     0,     0,     0,     0,     0,\n",
      "            0,     0,     0,     0,     0,     0,     0,     0,     0,     0,\n",
      "            0,     0,     0,     0,     0,     0,     0,     0,     0,     0,\n",
      "            0,     0,     0,     0,     0,     0,     0,     0,     0,     0,\n",
      "            0,     0,     0,     0,     0,     0,     0,     0,     0,     0,\n",
      "            0,     0,     0,     0,     0,     0,     0,     0,     0,     0,\n",
      "            0,     0,     0,     0,     0,     0,     0,     0,     0,     0,\n",
      "            0,     0,     0,     0,     0,     0,     0,     0,     0,     0,\n",
      "            0,     0,     0,     0,     0,     0,     0,     0,     0,     0,\n",
      "            0,     0,     0,     0,     0,     0,     0,     0,     0,     0,\n",
      "            0,     0,     0,     0,     0,     0,     0,     0,     0,     0,\n",
      "            0,     0,     0,     0,     0,     0,     0,     0,     0,     0,\n",
      "            0,     0,     0,     0,     0,     0,     0,     0,     0,     0,\n",
      "            0,     0])\n",
      "Attention Mask: tensor([1, 1, 1, 1, 1, 1, 1, 1, 1, 1, 1, 1, 1, 1, 1, 1, 1, 1, 1, 1, 1, 1, 1, 1,\n",
      "        1, 1, 1, 1, 0, 0, 0, 0, 0, 0, 0, 0, 0, 0, 0, 0, 0, 0, 0, 0, 0, 0, 0, 0,\n",
      "        0, 0, 0, 0, 0, 0, 0, 0, 0, 0, 0, 0, 0, 0, 0, 0, 0, 0, 0, 0, 0, 0, 0, 0,\n",
      "        0, 0, 0, 0, 0, 0, 0, 0, 0, 0, 0, 0, 0, 0, 0, 0, 0, 0, 0, 0, 0, 0, 0, 0,\n",
      "        0, 0, 0, 0, 0, 0, 0, 0, 0, 0, 0, 0, 0, 0, 0, 0, 0, 0, 0, 0, 0, 0, 0, 0,\n",
      "        0, 0, 0, 0, 0, 0, 0, 0, 0, 0, 0, 0, 0, 0, 0, 0, 0, 0, 0, 0, 0, 0, 0, 0,\n",
      "        0, 0, 0, 0, 0, 0, 0, 0, 0, 0, 0, 0, 0, 0, 0, 0, 0, 0, 0, 0, 0, 0, 0, 0,\n",
      "        0, 0, 0, 0, 0, 0, 0, 0, 0, 0, 0, 0, 0, 0, 0, 0, 0, 0, 0, 0, 0, 0, 0, 0])\n"
     ]
    }
   ],
   "source": [
    "# Convert the lists into tensors.\n",
    "input_ids = torch.cat(input_ids, dim=0)\n",
    "attention_masks = torch.cat(attention_masks, dim=0)\n",
    "labels = torch.tensor(labels, dtype=torch.long)\n",
    "\n",
    "# Print sentence 0, now as a list of IDs.\n",
    "print('Original: ', texts[0])\n",
    "print('Token IDs:', input_ids[0])\n",
    "print('Attention Mask:', attention_masks[0]) # 1 for all text tokens, 0 for all padding tokens"
   ]
  },
  {
   "cell_type": "code",
   "execution_count": 22,
   "metadata": {
    "id": "vO3MaaVkuI-c",
    "scrolled": true
   },
   "outputs": [
    {
     "name": "stdout",
     "output_type": "stream",
     "text": [
      "19500 training samples\n",
      "3150 validation samples\n",
      "7350 test samples\n"
     ]
    }
   ],
   "source": [
    "# Combine the training inputs into a TensorDataset.\n",
    "dataset = TensorDataset(input_ids, attention_masks, labels)\n",
    "\n",
    "# Create a 80-10-10 train-validation-test split\n",
    "\n",
    "# Calculate the number of samples to include in each set.\n",
    "train_size = int(0.65 * len(dataset))\n",
    "val_size = int(0.105 * len(dataset)) \n",
    "test_size = len(dataset) - train_size - val_size\n",
    "\n",
    "# Divide the dataset by randomly selecting samples.\n",
    "train_dataset, val_dataset, test_dataset = random_split(dataset, [train_size, val_size, test_size])\n",
    "\n",
    "print(f\"{train_size} training samples\")\n",
    "print(f\"{val_size} validation samples\")\n",
    "print(f\"{test_size} test samples\")"
   ]
  },
  {
   "cell_type": "code",
   "execution_count": 23,
   "metadata": {
    "id": "ZiHoD0KoNpZq",
    "scrolled": true
   },
   "outputs": [],
   "source": [
    "# The DataLoader needs to know our batch size for training, so we specify it \n",
    "# here. For fine-tuning BERT on a specific task, the authors recommend a batch \n",
    "# size of 16 or 32.\n",
    "batch_size = 16\n",
    "\n",
    "# Create the DataLoaders for our training and validation sets.\n",
    "# We'll take training samples in random order. \n",
    "train_dataloader = DataLoader(\n",
    "            train_dataset,\n",
    "            sampler = RandomSampler(train_dataset),\n",
    "            batch_size = batch_size\n",
    "        )\n",
    "\n",
    "# For validation the order doesn't matter, so we'll just read them sequentially.\n",
    "validation_dataloader = DataLoader(\n",
    "            val_dataset,\n",
    "            sampler = SequentialSampler(val_dataset),\n",
    "            batch_size = batch_size\n",
    "        )\n",
    "\n",
    "# For test the order doesn't matter, so we'll just read them sequentially.\n",
    "test_dataloader = DataLoader(\n",
    "            test_dataset,\n",
    "            sampler = SequentialSampler(test_dataset),\n",
    "            batch_size = batch_size\n",
    "        )"
   ]
  },
  {
   "cell_type": "markdown",
   "metadata": {
    "id": "m1IY9cwiAUCZ"
   },
   "source": [
    "## Create and Train Model"
   ]
  },
  {
   "cell_type": "code",
   "execution_count": 25,
   "metadata": {
    "id": "fWfvlMlBg-3_",
    "scrolled": true
   },
   "outputs": [
    {
     "name": "stdout",
     "output_type": "stream",
     "text": [
      "Loading bert-base-uncased model...\n",
      "config BertConfig {\n",
      "  \"_name_or_path\": \"bert-base-uncased\",\n",
      "  \"architectures\": [\n",
      "    \"BertForMaskedLM\"\n",
      "  ],\n",
      "  \"attention_probs_dropout_prob\": 0.1,\n",
      "  \"classifier_dropout\": null,\n",
      "  \"gradient_checkpointing\": false,\n",
      "  \"hidden_act\": \"gelu\",\n",
      "  \"hidden_dropout_prob\": 0.1,\n",
      "  \"hidden_size\": 768,\n",
      "  \"id2label\": {\n",
      "    \"0\": \"LABEL_0\",\n",
      "    \"1\": \"LABEL_1\",\n",
      "    \"2\": \"LABEL_2\",\n",
      "    \"3\": \"LABEL_3\",\n",
      "    \"4\": \"LABEL_4\",\n",
      "    \"5\": \"LABEL_5\"\n",
      "  },\n",
      "  \"initializer_range\": 0.02,\n",
      "  \"intermediate_size\": 3072,\n",
      "  \"label2id\": {\n",
      "    \"LABEL_0\": 0,\n",
      "    \"LABEL_1\": 1,\n",
      "    \"LABEL_2\": 2,\n",
      "    \"LABEL_3\": 3,\n",
      "    \"LABEL_4\": 4,\n",
      "    \"LABEL_5\": 5\n",
      "  },\n",
      "  \"layer_norm_eps\": 1e-12,\n",
      "  \"max_position_embeddings\": 512,\n",
      "  \"model_type\": \"bert\",\n",
      "  \"num_attention_heads\": 12,\n",
      "  \"num_hidden_layers\": 12,\n",
      "  \"output_attentions\": true,\n",
      "  \"pad_token_id\": 0,\n",
      "  \"position_embedding_type\": \"absolute\",\n",
      "  \"return_dict\": false,\n",
      "  \"transformers_version\": \"4.17.0\",\n",
      "  \"type_vocab_size\": 2,\n",
      "  \"use_cache\": true,\n",
      "  \"vocab_size\": 30522\n",
      "}\n",
      "\n"
     ]
    },
    {
     "name": "stderr",
     "output_type": "stream",
     "text": [
      "Some weights of the model checkpoint at bert-base-uncased were not used when initializing BertForSequenceClassification: ['cls.predictions.transform.LayerNorm.bias', 'cls.predictions.transform.LayerNorm.weight', 'cls.predictions.decoder.weight', 'cls.seq_relationship.weight', 'cls.predictions.transform.dense.weight', 'cls.predictions.transform.dense.bias', 'cls.predictions.bias', 'cls.seq_relationship.bias']\n",
      "- This IS expected if you are initializing BertForSequenceClassification from the checkpoint of a model trained on another task or with another architecture (e.g. initializing a BertForSequenceClassification model from a BertForPreTraining model).\n",
      "- This IS NOT expected if you are initializing BertForSequenceClassification from the checkpoint of a model that you expect to be exactly identical (initializing a BertForSequenceClassification model from a BertForSequenceClassification model).\n",
      "Some weights of BertForSequenceClassification were not initialized from the model checkpoint at bert-base-uncased and are newly initialized: ['classifier.bias', 'classifier.weight']\n",
      "You should probably TRAIN this model on a down-stream task to be able to use it for predictions and inference.\n"
     ]
    },
    {
     "data": {
      "text/plain": [
       "BertForSequenceClassification(\n",
       "  (bert): BertModel(\n",
       "    (embeddings): BertEmbeddings(\n",
       "      (word_embeddings): Embedding(30522, 768, padding_idx=0)\n",
       "      (position_embeddings): Embedding(512, 768)\n",
       "      (token_type_embeddings): Embedding(2, 768)\n",
       "      (LayerNorm): LayerNorm((768,), eps=1e-12, elementwise_affine=True)\n",
       "      (dropout): Dropout(p=0.1, inplace=False)\n",
       "    )\n",
       "    (encoder): BertEncoder(\n",
       "      (layer): ModuleList(\n",
       "        (0): BertLayer(\n",
       "          (attention): BertAttention(\n",
       "            (self): BertSelfAttention(\n",
       "              (query): Linear(in_features=768, out_features=768, bias=True)\n",
       "              (key): Linear(in_features=768, out_features=768, bias=True)\n",
       "              (value): Linear(in_features=768, out_features=768, bias=True)\n",
       "              (dropout): Dropout(p=0.1, inplace=False)\n",
       "            )\n",
       "            (output): BertSelfOutput(\n",
       "              (dense): Linear(in_features=768, out_features=768, bias=True)\n",
       "              (LayerNorm): LayerNorm((768,), eps=1e-12, elementwise_affine=True)\n",
       "              (dropout): Dropout(p=0.1, inplace=False)\n",
       "            )\n",
       "          )\n",
       "          (intermediate): BertIntermediate(\n",
       "            (dense): Linear(in_features=768, out_features=3072, bias=True)\n",
       "            (intermediate_act_fn): GELUActivation()\n",
       "          )\n",
       "          (output): BertOutput(\n",
       "            (dense): Linear(in_features=3072, out_features=768, bias=True)\n",
       "            (LayerNorm): LayerNorm((768,), eps=1e-12, elementwise_affine=True)\n",
       "            (dropout): Dropout(p=0.1, inplace=False)\n",
       "          )\n",
       "        )\n",
       "        (1): BertLayer(\n",
       "          (attention): BertAttention(\n",
       "            (self): BertSelfAttention(\n",
       "              (query): Linear(in_features=768, out_features=768, bias=True)\n",
       "              (key): Linear(in_features=768, out_features=768, bias=True)\n",
       "              (value): Linear(in_features=768, out_features=768, bias=True)\n",
       "              (dropout): Dropout(p=0.1, inplace=False)\n",
       "            )\n",
       "            (output): BertSelfOutput(\n",
       "              (dense): Linear(in_features=768, out_features=768, bias=True)\n",
       "              (LayerNorm): LayerNorm((768,), eps=1e-12, elementwise_affine=True)\n",
       "              (dropout): Dropout(p=0.1, inplace=False)\n",
       "            )\n",
       "          )\n",
       "          (intermediate): BertIntermediate(\n",
       "            (dense): Linear(in_features=768, out_features=3072, bias=True)\n",
       "            (intermediate_act_fn): GELUActivation()\n",
       "          )\n",
       "          (output): BertOutput(\n",
       "            (dense): Linear(in_features=3072, out_features=768, bias=True)\n",
       "            (LayerNorm): LayerNorm((768,), eps=1e-12, elementwise_affine=True)\n",
       "            (dropout): Dropout(p=0.1, inplace=False)\n",
       "          )\n",
       "        )\n",
       "        (2): BertLayer(\n",
       "          (attention): BertAttention(\n",
       "            (self): BertSelfAttention(\n",
       "              (query): Linear(in_features=768, out_features=768, bias=True)\n",
       "              (key): Linear(in_features=768, out_features=768, bias=True)\n",
       "              (value): Linear(in_features=768, out_features=768, bias=True)\n",
       "              (dropout): Dropout(p=0.1, inplace=False)\n",
       "            )\n",
       "            (output): BertSelfOutput(\n",
       "              (dense): Linear(in_features=768, out_features=768, bias=True)\n",
       "              (LayerNorm): LayerNorm((768,), eps=1e-12, elementwise_affine=True)\n",
       "              (dropout): Dropout(p=0.1, inplace=False)\n",
       "            )\n",
       "          )\n",
       "          (intermediate): BertIntermediate(\n",
       "            (dense): Linear(in_features=768, out_features=3072, bias=True)\n",
       "            (intermediate_act_fn): GELUActivation()\n",
       "          )\n",
       "          (output): BertOutput(\n",
       "            (dense): Linear(in_features=3072, out_features=768, bias=True)\n",
       "            (LayerNorm): LayerNorm((768,), eps=1e-12, elementwise_affine=True)\n",
       "            (dropout): Dropout(p=0.1, inplace=False)\n",
       "          )\n",
       "        )\n",
       "        (3): BertLayer(\n",
       "          (attention): BertAttention(\n",
       "            (self): BertSelfAttention(\n",
       "              (query): Linear(in_features=768, out_features=768, bias=True)\n",
       "              (key): Linear(in_features=768, out_features=768, bias=True)\n",
       "              (value): Linear(in_features=768, out_features=768, bias=True)\n",
       "              (dropout): Dropout(p=0.1, inplace=False)\n",
       "            )\n",
       "            (output): BertSelfOutput(\n",
       "              (dense): Linear(in_features=768, out_features=768, bias=True)\n",
       "              (LayerNorm): LayerNorm((768,), eps=1e-12, elementwise_affine=True)\n",
       "              (dropout): Dropout(p=0.1, inplace=False)\n",
       "            )\n",
       "          )\n",
       "          (intermediate): BertIntermediate(\n",
       "            (dense): Linear(in_features=768, out_features=3072, bias=True)\n",
       "            (intermediate_act_fn): GELUActivation()\n",
       "          )\n",
       "          (output): BertOutput(\n",
       "            (dense): Linear(in_features=3072, out_features=768, bias=True)\n",
       "            (LayerNorm): LayerNorm((768,), eps=1e-12, elementwise_affine=True)\n",
       "            (dropout): Dropout(p=0.1, inplace=False)\n",
       "          )\n",
       "        )\n",
       "        (4): BertLayer(\n",
       "          (attention): BertAttention(\n",
       "            (self): BertSelfAttention(\n",
       "              (query): Linear(in_features=768, out_features=768, bias=True)\n",
       "              (key): Linear(in_features=768, out_features=768, bias=True)\n",
       "              (value): Linear(in_features=768, out_features=768, bias=True)\n",
       "              (dropout): Dropout(p=0.1, inplace=False)\n",
       "            )\n",
       "            (output): BertSelfOutput(\n",
       "              (dense): Linear(in_features=768, out_features=768, bias=True)\n",
       "              (LayerNorm): LayerNorm((768,), eps=1e-12, elementwise_affine=True)\n",
       "              (dropout): Dropout(p=0.1, inplace=False)\n",
       "            )\n",
       "          )\n",
       "          (intermediate): BertIntermediate(\n",
       "            (dense): Linear(in_features=768, out_features=3072, bias=True)\n",
       "            (intermediate_act_fn): GELUActivation()\n",
       "          )\n",
       "          (output): BertOutput(\n",
       "            (dense): Linear(in_features=3072, out_features=768, bias=True)\n",
       "            (LayerNorm): LayerNorm((768,), eps=1e-12, elementwise_affine=True)\n",
       "            (dropout): Dropout(p=0.1, inplace=False)\n",
       "          )\n",
       "        )\n",
       "        (5): BertLayer(\n",
       "          (attention): BertAttention(\n",
       "            (self): BertSelfAttention(\n",
       "              (query): Linear(in_features=768, out_features=768, bias=True)\n",
       "              (key): Linear(in_features=768, out_features=768, bias=True)\n",
       "              (value): Linear(in_features=768, out_features=768, bias=True)\n",
       "              (dropout): Dropout(p=0.1, inplace=False)\n",
       "            )\n",
       "            (output): BertSelfOutput(\n",
       "              (dense): Linear(in_features=768, out_features=768, bias=True)\n",
       "              (LayerNorm): LayerNorm((768,), eps=1e-12, elementwise_affine=True)\n",
       "              (dropout): Dropout(p=0.1, inplace=False)\n",
       "            )\n",
       "          )\n",
       "          (intermediate): BertIntermediate(\n",
       "            (dense): Linear(in_features=768, out_features=3072, bias=True)\n",
       "            (intermediate_act_fn): GELUActivation()\n",
       "          )\n",
       "          (output): BertOutput(\n",
       "            (dense): Linear(in_features=3072, out_features=768, bias=True)\n",
       "            (LayerNorm): LayerNorm((768,), eps=1e-12, elementwise_affine=True)\n",
       "            (dropout): Dropout(p=0.1, inplace=False)\n",
       "          )\n",
       "        )\n",
       "        (6): BertLayer(\n",
       "          (attention): BertAttention(\n",
       "            (self): BertSelfAttention(\n",
       "              (query): Linear(in_features=768, out_features=768, bias=True)\n",
       "              (key): Linear(in_features=768, out_features=768, bias=True)\n",
       "              (value): Linear(in_features=768, out_features=768, bias=True)\n",
       "              (dropout): Dropout(p=0.1, inplace=False)\n",
       "            )\n",
       "            (output): BertSelfOutput(\n",
       "              (dense): Linear(in_features=768, out_features=768, bias=True)\n",
       "              (LayerNorm): LayerNorm((768,), eps=1e-12, elementwise_affine=True)\n",
       "              (dropout): Dropout(p=0.1, inplace=False)\n",
       "            )\n",
       "          )\n",
       "          (intermediate): BertIntermediate(\n",
       "            (dense): Linear(in_features=768, out_features=3072, bias=True)\n",
       "            (intermediate_act_fn): GELUActivation()\n",
       "          )\n",
       "          (output): BertOutput(\n",
       "            (dense): Linear(in_features=3072, out_features=768, bias=True)\n",
       "            (LayerNorm): LayerNorm((768,), eps=1e-12, elementwise_affine=True)\n",
       "            (dropout): Dropout(p=0.1, inplace=False)\n",
       "          )\n",
       "        )\n",
       "        (7): BertLayer(\n",
       "          (attention): BertAttention(\n",
       "            (self): BertSelfAttention(\n",
       "              (query): Linear(in_features=768, out_features=768, bias=True)\n",
       "              (key): Linear(in_features=768, out_features=768, bias=True)\n",
       "              (value): Linear(in_features=768, out_features=768, bias=True)\n",
       "              (dropout): Dropout(p=0.1, inplace=False)\n",
       "            )\n",
       "            (output): BertSelfOutput(\n",
       "              (dense): Linear(in_features=768, out_features=768, bias=True)\n",
       "              (LayerNorm): LayerNorm((768,), eps=1e-12, elementwise_affine=True)\n",
       "              (dropout): Dropout(p=0.1, inplace=False)\n",
       "            )\n",
       "          )\n",
       "          (intermediate): BertIntermediate(\n",
       "            (dense): Linear(in_features=768, out_features=3072, bias=True)\n",
       "            (intermediate_act_fn): GELUActivation()\n",
       "          )\n",
       "          (output): BertOutput(\n",
       "            (dense): Linear(in_features=3072, out_features=768, bias=True)\n",
       "            (LayerNorm): LayerNorm((768,), eps=1e-12, elementwise_affine=True)\n",
       "            (dropout): Dropout(p=0.1, inplace=False)\n",
       "          )\n",
       "        )\n",
       "        (8): BertLayer(\n",
       "          (attention): BertAttention(\n",
       "            (self): BertSelfAttention(\n",
       "              (query): Linear(in_features=768, out_features=768, bias=True)\n",
       "              (key): Linear(in_features=768, out_features=768, bias=True)\n",
       "              (value): Linear(in_features=768, out_features=768, bias=True)\n",
       "              (dropout): Dropout(p=0.1, inplace=False)\n",
       "            )\n",
       "            (output): BertSelfOutput(\n",
       "              (dense): Linear(in_features=768, out_features=768, bias=True)\n",
       "              (LayerNorm): LayerNorm((768,), eps=1e-12, elementwise_affine=True)\n",
       "              (dropout): Dropout(p=0.1, inplace=False)\n",
       "            )\n",
       "          )\n",
       "          (intermediate): BertIntermediate(\n",
       "            (dense): Linear(in_features=768, out_features=3072, bias=True)\n",
       "            (intermediate_act_fn): GELUActivation()\n",
       "          )\n",
       "          (output): BertOutput(\n",
       "            (dense): Linear(in_features=3072, out_features=768, bias=True)\n",
       "            (LayerNorm): LayerNorm((768,), eps=1e-12, elementwise_affine=True)\n",
       "            (dropout): Dropout(p=0.1, inplace=False)\n",
       "          )\n",
       "        )\n",
       "        (9): BertLayer(\n",
       "          (attention): BertAttention(\n",
       "            (self): BertSelfAttention(\n",
       "              (query): Linear(in_features=768, out_features=768, bias=True)\n",
       "              (key): Linear(in_features=768, out_features=768, bias=True)\n",
       "              (value): Linear(in_features=768, out_features=768, bias=True)\n",
       "              (dropout): Dropout(p=0.1, inplace=False)\n",
       "            )\n",
       "            (output): BertSelfOutput(\n",
       "              (dense): Linear(in_features=768, out_features=768, bias=True)\n",
       "              (LayerNorm): LayerNorm((768,), eps=1e-12, elementwise_affine=True)\n",
       "              (dropout): Dropout(p=0.1, inplace=False)\n",
       "            )\n",
       "          )\n",
       "          (intermediate): BertIntermediate(\n",
       "            (dense): Linear(in_features=768, out_features=3072, bias=True)\n",
       "            (intermediate_act_fn): GELUActivation()\n",
       "          )\n",
       "          (output): BertOutput(\n",
       "            (dense): Linear(in_features=3072, out_features=768, bias=True)\n",
       "            (LayerNorm): LayerNorm((768,), eps=1e-12, elementwise_affine=True)\n",
       "            (dropout): Dropout(p=0.1, inplace=False)\n",
       "          )\n",
       "        )\n",
       "        (10): BertLayer(\n",
       "          (attention): BertAttention(\n",
       "            (self): BertSelfAttention(\n",
       "              (query): Linear(in_features=768, out_features=768, bias=True)\n",
       "              (key): Linear(in_features=768, out_features=768, bias=True)\n",
       "              (value): Linear(in_features=768, out_features=768, bias=True)\n",
       "              (dropout): Dropout(p=0.1, inplace=False)\n",
       "            )\n",
       "            (output): BertSelfOutput(\n",
       "              (dense): Linear(in_features=768, out_features=768, bias=True)\n",
       "              (LayerNorm): LayerNorm((768,), eps=1e-12, elementwise_affine=True)\n",
       "              (dropout): Dropout(p=0.1, inplace=False)\n",
       "            )\n",
       "          )\n",
       "          (intermediate): BertIntermediate(\n",
       "            (dense): Linear(in_features=768, out_features=3072, bias=True)\n",
       "            (intermediate_act_fn): GELUActivation()\n",
       "          )\n",
       "          (output): BertOutput(\n",
       "            (dense): Linear(in_features=3072, out_features=768, bias=True)\n",
       "            (LayerNorm): LayerNorm((768,), eps=1e-12, elementwise_affine=True)\n",
       "            (dropout): Dropout(p=0.1, inplace=False)\n",
       "          )\n",
       "        )\n",
       "        (11): BertLayer(\n",
       "          (attention): BertAttention(\n",
       "            (self): BertSelfAttention(\n",
       "              (query): Linear(in_features=768, out_features=768, bias=True)\n",
       "              (key): Linear(in_features=768, out_features=768, bias=True)\n",
       "              (value): Linear(in_features=768, out_features=768, bias=True)\n",
       "              (dropout): Dropout(p=0.1, inplace=False)\n",
       "            )\n",
       "            (output): BertSelfOutput(\n",
       "              (dense): Linear(in_features=768, out_features=768, bias=True)\n",
       "              (LayerNorm): LayerNorm((768,), eps=1e-12, elementwise_affine=True)\n",
       "              (dropout): Dropout(p=0.1, inplace=False)\n",
       "            )\n",
       "          )\n",
       "          (intermediate): BertIntermediate(\n",
       "            (dense): Linear(in_features=768, out_features=3072, bias=True)\n",
       "            (intermediate_act_fn): GELUActivation()\n",
       "          )\n",
       "          (output): BertOutput(\n",
       "            (dense): Linear(in_features=3072, out_features=768, bias=True)\n",
       "            (LayerNorm): LayerNorm((768,), eps=1e-12, elementwise_affine=True)\n",
       "            (dropout): Dropout(p=0.1, inplace=False)\n",
       "          )\n",
       "        )\n",
       "      )\n",
       "    )\n",
       "    (pooler): BertPooler(\n",
       "      (dense): Linear(in_features=768, out_features=768, bias=True)\n",
       "      (activation): Tanh()\n",
       "    )\n",
       "  )\n",
       "  (dropout): Dropout(p=0.1, inplace=False)\n",
       "  (classifier): Linear(in_features=768, out_features=6, bias=True)\n",
       ")"
      ]
     },
     "execution_count": 25,
     "metadata": {},
     "output_type": "execute_result"
    }
   ],
   "source": [
    "# Load pretrained model for sequence classification\n",
    "print(f\"Loading {model_name} model...\")\n",
    "config = AutoConfig.from_pretrained(model_name)\n",
    "config.num_labels = len(label_names)\n",
    "config.output_attentions = True\n",
    "config.return_dict=False\n",
    "print(\"config\", config)\n",
    "model = AutoModelForSequenceClassification.from_pretrained(\n",
    "    model_name,\n",
    "    config=config)\n",
    "\n",
    "# Tell pytorch to run this model on the GPU.\n",
    "model.cuda()"
   ]
  },
  {
   "cell_type": "code",
   "execution_count": 26,
   "metadata": {
    "id": "WIBG_g36utJA",
    "scrolled": true
   },
   "outputs": [
    {
     "name": "stdout",
     "output_type": "stream",
     "text": [
      "The model has 201 different named parameters.\n",
      "\n",
      "==== Embedding Layer ====\n",
      "\n",
      "bert.embeddings.word_embeddings.weight                  (30522, 768)\n",
      "bert.embeddings.position_embeddings.weight                (512, 768)\n",
      "bert.embeddings.token_type_embeddings.weight                (2, 768)\n",
      "bert.embeddings.LayerNorm.weight                              (768,)\n",
      "bert.embeddings.LayerNorm.bias                                (768,)\n",
      "\n",
      "==== First Transformer ====\n",
      "\n",
      "bert.encoder.layer.0.attention.self.query.weight          (768, 768)\n",
      "bert.encoder.layer.0.attention.self.query.bias                (768,)\n",
      "bert.encoder.layer.0.attention.self.key.weight            (768, 768)\n",
      "bert.encoder.layer.0.attention.self.key.bias                  (768,)\n",
      "bert.encoder.layer.0.attention.self.value.weight          (768, 768)\n",
      "bert.encoder.layer.0.attention.self.value.bias                (768,)\n",
      "bert.encoder.layer.0.attention.output.dense.weight        (768, 768)\n",
      "bert.encoder.layer.0.attention.output.dense.bias              (768,)\n",
      "bert.encoder.layer.0.attention.output.LayerNorm.weight        (768,)\n",
      "bert.encoder.layer.0.attention.output.LayerNorm.bias          (768,)\n",
      "bert.encoder.layer.0.intermediate.dense.weight           (3072, 768)\n",
      "bert.encoder.layer.0.intermediate.dense.bias                 (3072,)\n",
      "bert.encoder.layer.0.output.dense.weight                 (768, 3072)\n",
      "bert.encoder.layer.0.output.dense.bias                        (768,)\n",
      "bert.encoder.layer.0.output.LayerNorm.weight                  (768,)\n",
      "bert.encoder.layer.0.output.LayerNorm.bias                    (768,)\n",
      "\n",
      "==== Output Layer ====\n",
      "\n",
      "bert.pooler.dense.weight                                  (768, 768)\n",
      "bert.pooler.dense.bias                                        (768,)\n",
      "classifier.weight                                           (6, 768)\n",
      "classifier.bias                                                 (6,)\n"
     ]
    }
   ],
   "source": [
    "# Get all of the model's parameters as a list of tuples.\n",
    "params = list(model.named_parameters())\n",
    "\n",
    "print('The model has {:} different named parameters.\\n'.format(len(params)))\n",
    "\n",
    "print('==== Embedding Layer ====\\n')\n",
    "\n",
    "for p in params[0:5]:\n",
    "    print(\"{:<55} {:>12}\".format(p[0], str(tuple(p[1].size()))))\n",
    "\n",
    "print('\\n==== First Transformer ====\\n')\n",
    "\n",
    "for p in params[5:21]:\n",
    "    print(\"{:<55} {:>12}\".format(p[0], str(tuple(p[1].size()))))\n",
    "\n",
    "print('\\n==== Output Layer ====\\n')\n",
    "\n",
    "for p in params[-4:]:\n",
    "    print(\"{:<55} {:>12}\".format(p[0], str(tuple(p[1].size()))))"
   ]
  },
  {
   "cell_type": "code",
   "execution_count": 27,
   "metadata": {
    "id": "Xzojbxacu1ee",
    "scrolled": true
   },
   "outputs": [
    {
     "name": "stderr",
     "output_type": "stream",
     "text": [
      "/home/ricardo/anaconda3/envs/whalejaguar/lib/python3.7/site-packages/transformers/optimization.py:309: FutureWarning: This implementation of AdamW is deprecated and will be removed in a future version. Use the PyTorch implementation torch.optim.AdamW instead, or set `no_deprecation_warning=True` to disable this warning\n",
      "  FutureWarning,\n"
     ]
    }
   ],
   "source": [
    "# Note: AdamW is a class from the huggingface library (as opposed to pytorch) \n",
    "# I believe the 'W' stands for 'Weight Decay fix\"\n",
    "optimizer = AdamW(model.parameters(),\n",
    "                  lr = 2e-5, # args.learning_rate - default is 5e-5, our notebook had 2e-5\n",
    "                  eps = 1e-8 # args.adam_epsilon  - default is 1e-8.\n",
    "                )\n"
   ]
  },
  {
   "cell_type": "code",
   "execution_count": 28,
   "metadata": {
    "id": "OFeBj0EhyGlx",
    "scrolled": true
   },
   "outputs": [],
   "source": [
    "# Number of training epochs. The BERT authors recommend between 2 and 4. \n",
    "epochs = 3\n",
    "\n",
    "# Total number of training steps is [number of batches] x [number of epochs]. \n",
    "# (Note that this is not the same as the number of training samples).\n",
    "total_steps = len(train_dataloader) * epochs\n",
    "\n",
    "# Create the learning rate scheduler.\n",
    "scheduler = get_linear_schedule_with_warmup(optimizer, \n",
    "                                            num_warmup_steps = 0, # Default value in run_glue.py\n",
    "                                            num_training_steps = total_steps)"
   ]
  },
  {
   "cell_type": "code",
   "execution_count": 29,
   "metadata": {
    "id": "bs5ImW58hZ4-",
    "scrolled": true
   },
   "outputs": [],
   "source": [
    "# Function to calculate the accuracy of our predictions vs labels\n",
    "def flat_accuracy(preds, labels):\n",
    "    pred_flat = np.argmax(preds, axis=1).flatten()\n",
    "    labels_flat = labels.flatten()\n",
    "    return np.sum(pred_flat == labels_flat) / len(labels_flat)"
   ]
  },
  {
   "cell_type": "code",
   "execution_count": 30,
   "metadata": {
    "id": "CbwgopNUhm-M",
    "scrolled": true
   },
   "outputs": [],
   "source": [
    "def format_time(elapsed):\n",
    "    '''\n",
    "    Takes a time in seconds and returns a string hh:mm:ss\n",
    "    '''\n",
    "    # Round to the nearest second.\n",
    "    elapsed_rounded = int(round((elapsed)))\n",
    "    \n",
    "    # Format as hh:mm:ss\n",
    "    return str(datetime.timedelta(seconds=elapsed_rounded))\n"
   ]
  },
  {
   "cell_type": "code",
   "execution_count": 31,
   "metadata": {
    "id": "Ub1-0NFChoc6",
    "scrolled": true
   },
   "outputs": [
    {
     "name": "stdout",
     "output_type": "stream",
     "text": [
      "\n",
      "======== Epoch 1 / 3 ========\n",
      "Training...\n",
      "  Batch    40  of  1,219.    Elapsed: 0:00:15.\n",
      "  Batch    80  of  1,219.    Elapsed: 0:00:31.\n",
      "  Batch   120  of  1,219.    Elapsed: 0:00:46.\n",
      "  Batch   160  of  1,219.    Elapsed: 0:01:02.\n",
      "  Batch   200  of  1,219.    Elapsed: 0:01:19.\n",
      "  Batch   240  of  1,219.    Elapsed: 0:01:35.\n",
      "  Batch   280  of  1,219.    Elapsed: 0:01:50.\n",
      "  Batch   320  of  1,219.    Elapsed: 0:02:06.\n",
      "  Batch   360  of  1,219.    Elapsed: 0:02:22.\n",
      "  Batch   400  of  1,219.    Elapsed: 0:02:38.\n",
      "  Batch   440  of  1,219.    Elapsed: 0:02:54.\n",
      "  Batch   480  of  1,219.    Elapsed: 0:03:10.\n",
      "  Batch   520  of  1,219.    Elapsed: 0:03:27.\n",
      "  Batch   560  of  1,219.    Elapsed: 0:03:43.\n",
      "  Batch   600  of  1,219.    Elapsed: 0:04:00.\n",
      "  Batch   640  of  1,219.    Elapsed: 0:04:17.\n",
      "  Batch   680  of  1,219.    Elapsed: 0:04:34.\n",
      "  Batch   720  of  1,219.    Elapsed: 0:04:52.\n",
      "  Batch   760  of  1,219.    Elapsed: 0:05:11.\n",
      "  Batch   800  of  1,219.    Elapsed: 0:05:29.\n",
      "  Batch   840  of  1,219.    Elapsed: 0:05:46.\n",
      "  Batch   880  of  1,219.    Elapsed: 0:06:03.\n",
      "  Batch   920  of  1,219.    Elapsed: 0:06:21.\n",
      "  Batch   960  of  1,219.    Elapsed: 0:06:39.\n",
      "  Batch 1,000  of  1,219.    Elapsed: 0:06:56.\n",
      "  Batch 1,040  of  1,219.    Elapsed: 0:07:15.\n",
      "  Batch 1,080  of  1,219.    Elapsed: 0:07:33.\n",
      "  Batch 1,120  of  1,219.    Elapsed: 0:07:50.\n",
      "  Batch 1,160  of  1,219.    Elapsed: 0:08:08.\n",
      "  Batch 1,200  of  1,219.    Elapsed: 0:08:25.\n",
      "\n",
      "  Average training loss: 1.55\n",
      "  Training epoch took: 0:08:33\n",
      "\n",
      "Running Validation...\n",
      "  Accuracy: 0.38\n",
      "  Validation Loss: 1.54\n",
      "  Validation took: 0:00:27\n",
      "\n",
      "======== Epoch 2 / 3 ========\n",
      "Training...\n",
      "  Batch    40  of  1,219.    Elapsed: 0:00:17.\n",
      "  Batch    80  of  1,219.    Elapsed: 0:00:35.\n",
      "  Batch   120  of  1,219.    Elapsed: 0:00:53.\n",
      "  Batch   160  of  1,219.    Elapsed: 0:01:10.\n",
      "  Batch   200  of  1,219.    Elapsed: 0:01:28.\n",
      "  Batch   240  of  1,219.    Elapsed: 0:01:47.\n",
      "  Batch   280  of  1,219.    Elapsed: 0:02:05.\n",
      "  Batch   320  of  1,219.    Elapsed: 0:02:24.\n",
      "  Batch   360  of  1,219.    Elapsed: 0:02:41.\n",
      "  Batch   400  of  1,219.    Elapsed: 0:03:01.\n",
      "  Batch   440  of  1,219.    Elapsed: 0:03:19.\n",
      "  Batch   480  of  1,219.    Elapsed: 0:03:37.\n",
      "  Batch   520  of  1,219.    Elapsed: 0:03:54.\n",
      "  Batch   560  of  1,219.    Elapsed: 0:04:12.\n",
      "  Batch   600  of  1,219.    Elapsed: 0:04:30.\n",
      "  Batch   640  of  1,219.    Elapsed: 0:04:47.\n",
      "  Batch   680  of  1,219.    Elapsed: 0:05:05.\n",
      "  Batch   720  of  1,219.    Elapsed: 0:05:23.\n",
      "  Batch   760  of  1,219.    Elapsed: 0:05:42.\n",
      "  Batch   800  of  1,219.    Elapsed: 0:06:00.\n",
      "  Batch   840  of  1,219.    Elapsed: 0:06:17.\n",
      "  Batch   880  of  1,219.    Elapsed: 0:06:34.\n",
      "  Batch   920  of  1,219.    Elapsed: 0:06:52.\n",
      "  Batch   960  of  1,219.    Elapsed: 0:07:09.\n",
      "  Batch 1,000  of  1,219.    Elapsed: 0:07:28.\n",
      "  Batch 1,040  of  1,219.    Elapsed: 0:07:46.\n",
      "  Batch 1,080  of  1,219.    Elapsed: 0:08:04.\n",
      "  Batch 1,120  of  1,219.    Elapsed: 0:08:22.\n",
      "  Batch 1,160  of  1,219.    Elapsed: 0:08:40.\n",
      "  Batch 1,200  of  1,219.    Elapsed: 0:08:57.\n",
      "\n",
      "  Average training loss: 1.42\n",
      "  Training epoch took: 0:09:06\n",
      "\n",
      "Running Validation...\n",
      "  Accuracy: 0.40\n",
      "  Validation Loss: 1.49\n",
      "  Validation took: 0:00:29\n",
      "\n",
      "======== Epoch 3 / 3 ========\n",
      "Training...\n",
      "  Batch    40  of  1,219.    Elapsed: 0:00:18.\n",
      "  Batch    80  of  1,219.    Elapsed: 0:00:36.\n",
      "  Batch   120  of  1,219.    Elapsed: 0:00:54.\n",
      "  Batch   160  of  1,219.    Elapsed: 0:01:12.\n",
      "  Batch   200  of  1,219.    Elapsed: 0:01:31.\n",
      "  Batch   240  of  1,219.    Elapsed: 0:01:49.\n",
      "  Batch   280  of  1,219.    Elapsed: 0:02:06.\n",
      "  Batch   320  of  1,219.    Elapsed: 0:02:24.\n",
      "  Batch   360  of  1,219.    Elapsed: 0:02:42.\n",
      "  Batch   400  of  1,219.    Elapsed: 0:03:00.\n",
      "  Batch   440  of  1,219.    Elapsed: 0:03:19.\n",
      "  Batch   480  of  1,219.    Elapsed: 0:03:39.\n",
      "  Batch   520  of  1,219.    Elapsed: 0:03:58.\n",
      "  Batch   560  of  1,219.    Elapsed: 0:04:16.\n",
      "  Batch   600  of  1,219.    Elapsed: 0:04:34.\n",
      "  Batch   640  of  1,219.    Elapsed: 0:04:52.\n",
      "  Batch   680  of  1,219.    Elapsed: 0:05:10.\n",
      "  Batch   720  of  1,219.    Elapsed: 0:05:27.\n",
      "  Batch   760  of  1,219.    Elapsed: 0:05:45.\n",
      "  Batch   800  of  1,219.    Elapsed: 0:06:02.\n",
      "  Batch   840  of  1,219.    Elapsed: 0:06:20.\n",
      "  Batch   880  of  1,219.    Elapsed: 0:06:37.\n",
      "  Batch   920  of  1,219.    Elapsed: 0:06:55.\n",
      "  Batch   960  of  1,219.    Elapsed: 0:07:13.\n",
      "  Batch 1,000  of  1,219.    Elapsed: 0:07:30.\n",
      "  Batch 1,040  of  1,219.    Elapsed: 0:07:48.\n",
      "  Batch 1,080  of  1,219.    Elapsed: 0:08:05.\n",
      "  Batch 1,120  of  1,219.    Elapsed: 0:08:23.\n",
      "  Batch 1,160  of  1,219.    Elapsed: 0:08:40.\n",
      "  Batch 1,200  of  1,219.    Elapsed: 0:08:58.\n",
      "\n",
      "  Average training loss: 1.30\n",
      "  Training epoch took: 0:09:07\n",
      "\n",
      "Running Validation...\n",
      "  Accuracy: 0.40\n",
      "  Validation Loss: 1.52\n",
      "  Validation took: 0:00:28\n",
      "\n",
      "Training complete!\n",
      "Total training took 0:28:09 (h:mm:ss)\n"
     ]
    }
   ],
   "source": [
    "# This training code is based on the `run_glue.py` script here:\n",
    "# https://github.com/huggingface/transformers/blob/5bfcd0485ece086ebcbed2d008813037968a9e58/examples/run_glue.py#L128\n",
    "\n",
    "# Set the seed value all over the place to make this reproducible.\n",
    "seed_val = 42\n",
    "\n",
    "random.seed(seed_val)\n",
    "np.random.seed(seed_val)\n",
    "torch.manual_seed(seed_val)\n",
    "torch.cuda.manual_seed_all(seed_val)\n",
    "\n",
    "# We'll store a number of quantities such as training and validation loss, \n",
    "# validation accuracy, and timings.\n",
    "training_stats = []\n",
    "\n",
    "# Measure the total training time for the whole run.\n",
    "total_t0 = time.time()\n",
    "\n",
    "# For each epoch...\n",
    "for epoch_i in range(0, epochs):\n",
    "    \n",
    "    # ========================================\n",
    "    #               Training\n",
    "    # ========================================\n",
    "    \n",
    "    # Perform one full pass over the training set.\n",
    "\n",
    "    print(\"\")\n",
    "    print('======== Epoch {:} / {:} ========'.format(epoch_i + 1, epochs))\n",
    "    print('Training...')\n",
    "\n",
    "    # Measure how long the training epoch takes.\n",
    "    t0 = time.time()\n",
    "\n",
    "    # Reset the total loss for this epoch.\n",
    "    total_train_loss = 0\n",
    "\n",
    "    # Put the model into training mode. Don't be mislead--the call to \n",
    "    # `train` just changes the *mode*, it doesn't *perform* the training.\n",
    "    # `dropout` and `batchnorm` layers behave differently during training\n",
    "    # vs. test (source: https://stackoverflow.com/questions/51433378/what-does-model-train-do-in-pytorch)\n",
    "    model.train()\n",
    "\n",
    "    # For each batch of training data...\n",
    "    for step, batch in enumerate(train_dataloader):\n",
    "\n",
    "        # Progress update every 40 batches.\n",
    "        if step % 40 == 0 and not step == 0:\n",
    "            # Calculate elapsed time in minutes.\n",
    "            elapsed = format_time(time.time() - t0)\n",
    "            \n",
    "            # Report progress.\n",
    "            print('  Batch {:>5,}  of  {:>5,}.    Elapsed: {:}.'.format(step, len(train_dataloader), elapsed))\n",
    "\n",
    "        # Unpack this training batch from our dataloader. \n",
    "        #\n",
    "        # As we unpack the batch, we'll also copy each tensor to the GPU using the \n",
    "        # `to` method.\n",
    "        #\n",
    "        # `batch` contains three pytorch tensors:\n",
    "        #   [0]: input ids \n",
    "        #   [1]: attention masks\n",
    "        #   [2]: labels \n",
    "        b_input_ids = batch[0].to(device)\n",
    "        b_input_mask = batch[1].to(device)\n",
    "        b_labels = batch[2].to(device)\n",
    "\n",
    "        # Always clear any previously calculated gradients before performing a\n",
    "        # backward pass. PyTorch doesn't do this automatically because \n",
    "        # accumulating the gradients is \"convenient while training RNNs\". \n",
    "        # (source: https://stackoverflow.com/questions/48001598/why-do-we-need-to-call-zero-grad-in-pytorch)\n",
    "        model.zero_grad()        \n",
    "\n",
    "        # Perform a forward pass (evaluate the model on this training batch).\n",
    "        # The documentation for this `model` function is here: \n",
    "        # https://huggingface.co/transformers/v2.2.0/model_doc/bert.html#transformers.BertForSequenceClassification\n",
    "        # It returns different numbers of parameters depending on what arguments\n",
    "        # arge given and what flags are set. For our useage here, it returns\n",
    "        # the loss (because we provided labels) and the \"logits\"--the model\n",
    "        # outputs prior to activation.\n",
    "\n",
    "        loss, logits, attentions = model(input_ids=b_input_ids, \n",
    "                                         attention_mask=b_input_mask, \n",
    "                                         labels=b_labels)\n",
    "\n",
    "        # Accumulate the training loss over all of the batches so that we can\n",
    "        # calculate the average loss at the end. `loss` is a Tensor containing a\n",
    "        # single value; the `.item()` function just returns the Python value \n",
    "        # from the tensor.\n",
    "        total_train_loss += loss.item()\n",
    "\n",
    "        # Perform a backward pass to calculate the gradients.\n",
    "        loss.backward()\n",
    "\n",
    "        # Clip the norm of the gradients to 1.0.\n",
    "        # This is to help prevent the \"exploding gradients\" problem.\n",
    "        torch.nn.utils.clip_grad_norm_(model.parameters(), 1.0)\n",
    "\n",
    "        # Update parameters and take a step using the computed gradient.\n",
    "        # The optimizer dictates the \"update rule\"--how the parameters are\n",
    "        # modified based on their gradients, the learning rate, etc.\n",
    "        optimizer.step()\n",
    "\n",
    "        # Update the learning rate.\n",
    "        scheduler.step()\n",
    "\n",
    "    # Calculate the average loss over all of the batches.\n",
    "    avg_train_loss = total_train_loss / len(train_dataloader)            \n",
    "    \n",
    "    # Measure how long this epoch took.\n",
    "    training_time = format_time(time.time() - t0)\n",
    "\n",
    "    print(\"\")\n",
    "    print(\"  Average training loss: {0:.2f}\".format(avg_train_loss))\n",
    "    print(\"  Training epoch took: {:}\".format(training_time))\n",
    "        \n",
    "    # ========================================\n",
    "    #               Validation\n",
    "    # ========================================\n",
    "    # After the completion of each training epoch, measure our performance on\n",
    "    # our validation set.\n",
    "\n",
    "    print(\"\")\n",
    "    print(\"Running Validation...\")\n",
    "\n",
    "    t0 = time.time()\n",
    "\n",
    "    # Put the model in evaluation mode--the dropout layers behave differently\n",
    "    # during evaluation.\n",
    "    model.eval()\n",
    "\n",
    "    # Tracking variables \n",
    "    total_eval_accuracy = 0\n",
    "    total_eval_loss = 0\n",
    "    nb_eval_steps = 0\n",
    "\n",
    "    # Evaluate data for one epoch\n",
    "    for batch in validation_dataloader:\n",
    "        \n",
    "        # Unpack this training batch from our dataloader. \n",
    "        #\n",
    "        # As we unpack the batch, we'll also copy each tensor to the GPU using \n",
    "        # the `to` method.\n",
    "        #\n",
    "        # `batch` contains three pytorch tensors:\n",
    "        #   [0]: input ids \n",
    "        #   [1]: attention masks\n",
    "        #   [2]: labels \n",
    "        b_input_ids = batch[0].to(device)\n",
    "        b_input_mask = batch[1].to(device)\n",
    "        b_labels = batch[2].to(device)\n",
    "        \n",
    "        # Tell pytorch not to bother with constructing the compute graph during\n",
    "        # the forward pass, since this is only needed for backprop (training).\n",
    "        with torch.no_grad():        \n",
    "\n",
    "            # Forward pass, calculate logit predictions.\n",
    "            # token_type_ids is the same as the \"segment ids\", which \n",
    "            # differentiates sentence 1 and 2 in 2-sentence tasks.\n",
    "            # The documentation for this `model` function is here: \n",
    "            # https://huggingface.co/transformers/v2.2.0/model_doc/bert.html#transformers.BertForSequenceClassification\n",
    "            # Get the \"logits\" output by the model. The \"logits\" are the output\n",
    "            # values prior to applying an activation function like the softmax.\n",
    "            (loss, logits, attentions) = model(input_ids=b_input_ids, \n",
    "                                               attention_mask=b_input_mask,\n",
    "                                               labels=b_labels)\n",
    "            \n",
    "        # Accumulate the validation loss.\n",
    "        total_eval_loss += loss.item()\n",
    "\n",
    "        # Move logits and labels to CPU\n",
    "        logits = logits.detach().cpu().numpy()\n",
    "        label_ids = b_labels.to('cpu').numpy()\n",
    "\n",
    "        # Calculate the accuracy for this batch of test sentences, and\n",
    "        # accumulate it over all batches.\n",
    "        total_eval_accuracy += flat_accuracy(logits, label_ids)\n",
    "        \n",
    "\n",
    "    # Report the final accuracy for this validation run.\n",
    "    avg_val_accuracy = total_eval_accuracy / len(validation_dataloader)\n",
    "    print(\"  Accuracy: {0:.2f}\".format(avg_val_accuracy))\n",
    "\n",
    "    # Calculate the average loss over all of the batches.\n",
    "    avg_val_loss = total_eval_loss / len(validation_dataloader)\n",
    "    \n",
    "    # Measure how long the validation run took.\n",
    "    validation_time = format_time(time.time() - t0)\n",
    "    \n",
    "    print(\"  Validation Loss: {0:.2f}\".format(avg_val_loss))\n",
    "    print(\"  Validation took: {:}\".format(validation_time))\n",
    "\n",
    "    # Record all statistics from this epoch.\n",
    "    training_stats.append(\n",
    "        {\n",
    "            'epoch': epoch_i + 1,\n",
    "            'Training Loss': avg_train_loss,\n",
    "            'Valid. Loss': avg_val_loss,\n",
    "            'Valid. Accur.': avg_val_accuracy,\n",
    "            'Training Time': training_time,\n",
    "            'Validation Time': validation_time\n",
    "        }\n",
    "    )\n",
    "\n",
    "print(\"\")\n",
    "print(\"Training complete!\")\n",
    "\n",
    "print(\"Total training took {:} (h:mm:ss)\".format(format_time(time.time()-total_t0)))"
   ]
  },
  {
   "cell_type": "code",
   "execution_count": 32,
   "metadata": {
    "id": "Qxik8IiPhvXC",
    "scrolled": true
   },
   "outputs": [
    {
     "data": {
      "text/html": [
       "<div>\n",
       "<style scoped>\n",
       "    .dataframe tbody tr th:only-of-type {\n",
       "        vertical-align: middle;\n",
       "    }\n",
       "\n",
       "    .dataframe tbody tr th {\n",
       "        vertical-align: top;\n",
       "    }\n",
       "\n",
       "    .dataframe thead th {\n",
       "        text-align: right;\n",
       "    }\n",
       "</style>\n",
       "<table border=\"1\" class=\"dataframe\">\n",
       "  <thead>\n",
       "    <tr style=\"text-align: right;\">\n",
       "      <th></th>\n",
       "      <th>Training Loss</th>\n",
       "      <th>Valid. Loss</th>\n",
       "      <th>Valid. Accur.</th>\n",
       "      <th>Training Time</th>\n",
       "      <th>Validation Time</th>\n",
       "    </tr>\n",
       "    <tr>\n",
       "      <th>epoch</th>\n",
       "      <th></th>\n",
       "      <th></th>\n",
       "      <th></th>\n",
       "      <th></th>\n",
       "      <th></th>\n",
       "    </tr>\n",
       "  </thead>\n",
       "  <tbody>\n",
       "    <tr>\n",
       "      <th>1</th>\n",
       "      <td>1.55</td>\n",
       "      <td>1.54</td>\n",
       "      <td>0.38</td>\n",
       "      <td>0:08:33</td>\n",
       "      <td>0:00:27</td>\n",
       "    </tr>\n",
       "    <tr>\n",
       "      <th>2</th>\n",
       "      <td>1.42</td>\n",
       "      <td>1.49</td>\n",
       "      <td>0.40</td>\n",
       "      <td>0:09:06</td>\n",
       "      <td>0:00:29</td>\n",
       "    </tr>\n",
       "    <tr>\n",
       "      <th>3</th>\n",
       "      <td>1.30</td>\n",
       "      <td>1.52</td>\n",
       "      <td>0.40</td>\n",
       "      <td>0:09:07</td>\n",
       "      <td>0:00:28</td>\n",
       "    </tr>\n",
       "  </tbody>\n",
       "</table>\n",
       "</div>"
      ],
      "text/plain": [
       "       Training Loss  Valid. Loss  Valid. Accur. Training Time Validation Time\n",
       "epoch                                                                         \n",
       "1               1.55         1.54           0.38       0:08:33         0:00:27\n",
       "2               1.42         1.49           0.40       0:09:06         0:00:29\n",
       "3               1.30         1.52           0.40       0:09:07         0:00:28"
      ]
     },
     "execution_count": 32,
     "metadata": {},
     "output_type": "execute_result"
    }
   ],
   "source": [
    "# Display floats with two decimal places.\n",
    "pd.set_option('precision', 2)\n",
    "\n",
    "# Create a DataFrame from our training statistics.\n",
    "df_stats = pd.DataFrame(data=training_stats)\n",
    "\n",
    "# Use the 'epoch' as the row index.\n",
    "df_stats = df_stats.set_index('epoch')\n",
    "\n",
    "# Display the table.\n",
    "df_stats"
   ]
  },
  {
   "cell_type": "code",
   "execution_count": 33,
   "metadata": {
    "id": "v2G-EegN85iC",
    "scrolled": true
   },
   "outputs": [
    {
     "data": {
      "image/png": "[encoded data removed]",
      "text/plain": [
       "<Figure size 864x432 with 1 Axes>"
      ]
     },
     "metadata": {},
     "output_type": "display_data"
    }
   ],
   "source": [
    "import matplotlib.pyplot as plt\n",
    "%matplotlib inline\n",
    "\n",
    "import seaborn as sns\n",
    "\n",
    "# Use plot styling from seaborn.\n",
    "sns.set(style='darkgrid')\n",
    "\n",
    "# Increase the plot size and font size.\n",
    "sns.set(font_scale=1.5)\n",
    "plt.rcParams[\"figure.figsize\"] = (12,6)\n",
    "\n",
    "# Plot the learning curve.\n",
    "plt.plot(df_stats['Training Loss'], 'b-o', label=\"Training\")\n",
    "plt.plot(df_stats['Valid. Loss'], 'g-o', label=\"Validation\")\n",
    "\n",
    "# Label the plot.\n",
    "plt.title(\"Training & Validation Loss\")\n",
    "plt.xlabel(\"Epoch\")\n",
    "plt.ylabel(\"Loss\")\n",
    "plt.legend()\n",
    "plt.xticks([1, 2, 3, 4])\n",
    "\n",
    "plt.show()"
   ]
  },
  {
   "cell_type": "markdown",
   "metadata": {
    "id": "fWmaN_QFZKvd"
   },
   "source": [
    "## Evaluation on Test Set"
   ]
  },
  {
   "cell_type": "code",
   "execution_count": 34,
   "metadata": {
    "id": "rhhTNEe2ZQM-",
    "scrolled": true
   },
   "outputs": [
    {
     "name": "stdout",
     "output_type": "stream",
     "text": [
      "Predicting labels ...\n",
      "Predicted 7350 samples\n"
     ]
    }
   ],
   "source": [
    "# Prediction on test set\n",
    "\n",
    "print(\"Predicting labels ...\")\n",
    "\n",
    "# Put model in evaluation mode\n",
    "model.eval()\n",
    "\n",
    "# Tracking variables \n",
    "predictions , true_labels = [], []\n",
    "\n",
    "# Predict \n",
    "for batch in test_dataloader:\n",
    "  # Add batch to GPU\n",
    "  batch = tuple(t.to(device) for t in batch)\n",
    "  \n",
    "  # Unpack the inputs from our dataloader\n",
    "  b_input_ids, b_input_mask, b_labels = batch\n",
    "\n",
    "  # Telling the model not to compute or store gradients, saving memory and \n",
    "  # speeding up prediction\n",
    "  with torch.no_grad():\n",
    "      # Forward pass, calculate logit predictions\n",
    "      outputs = model(input_ids=b_input_ids,\n",
    "                      attention_mask=b_input_mask)\n",
    "\n",
    "  logits = outputs[0]\n",
    "\n",
    "  # Move logits and labels to CPU\n",
    "  logits = logits.detach().cpu().numpy()\n",
    "  label_ids = b_labels.to('cpu').numpy()\n",
    "  \n",
    "  # Store predictions and true labels\n",
    "  predictions.extend(logits)\n",
    "  true_labels.extend(label_ids)\n",
    "\n",
    "print(f\"Predicted {len(predictions)} samples\")"
   ]
  },
  {
   "cell_type": "code",
   "execution_count": 35,
   "metadata": {
    "id": "htdXUiYk7fyB",
    "scrolled": true
   },
   "outputs": [
    {
     "name": "stdout",
     "output_type": "stream",
     "text": [
      "Test set accuracy: 0.40435374149659864\n",
      "Test set Matthews correlation coefficient: 0.22773228601040327\n"
     ]
    }
   ],
   "source": [
    "predictions = np.argmax(predictions, axis=1)\n",
    "print(f\"Test set accuracy: {accuracy_score(true_labels, predictions)}\")\n",
    "print(f\"Test set Matthews correlation coefficient: {matthews_corrcoef(true_labels, predictions)}\")"
   ]
  },
  {
   "cell_type": "code",
   "execution_count": 36,
   "metadata": {
    "id": "7TMxlhQYB1Bb",
    "scrolled": true
   },
   "outputs": [
    {
     "name": "stdout",
     "output_type": "stream",
     "text": [
      "Test set confusiomat: \n",
      "[[  26  307   33   93   11    6]\n",
      " [  18 1064  207  374   25    6]\n",
      " [   8  386  152  608   29    4]\n",
      " [   2  222  121 1607  106    4]\n",
      " [   3  107   96  931  118    5]\n",
      " [   1   82   59  477   47    5]]\n",
      "Test set f1score: 0.2494727095286542\n",
      "Test set accuracy: 0.40435374149659864\n"
     ]
    }
   ],
   "source": [
    "from sklearn.metrics import confusion_matrix\n",
    "from sklearn.metrics import f1_score\n",
    "from sklearn.metrics import accuracy_score\n",
    "\n",
    "print(f\"Test set confusiomat: \\n{confusion_matrix(true_labels, predictions)}\")\n",
    "print(f\"Test set f1score: {f1_score(true_labels, predictions,average='macro')}\")\n",
    "print(f\"Test set accuracy: {accuracy_score(true_labels, predictions)}\")\n",
    "\n"
   ]
  },
  {
   "cell_type": "markdown",
   "metadata": {
    "id": "F5EStuaZBGLk"
   },
   "source": [
    "## Save model to disk"
   ]
  },
  {
   "cell_type": "code",
   "execution_count": 37,
   "metadata": {
    "id": "aZIqwQvuBKFZ",
    "scrolled": true
   },
   "outputs": [
    {
     "name": "stdout",
     "output_type": "stream",
     "text": [
      "Saving model to ./bert-base-uncased/\n"
     ]
    },
    {
     "data": {
      "text/plain": [
       "('./bert-base-uncased/tokenizer_config.json',\n",
       " './bert-base-uncased/special_tokens_map.json',\n",
       " './bert-base-uncased/vocab.txt',\n",
       " './bert-base-uncased/added_tokens.json',\n",
       " './bert-base-uncased/tokenizer.json')"
      ]
     },
     "execution_count": 37,
     "metadata": {},
     "output_type": "execute_result"
    }
   ],
   "source": [
    "# Saving best-practices: if you use defaults names for the model, you can reload it using from_pretrained()\n",
    "\n",
    "output_dir = f\"./{model_name}/\"\n",
    "\n",
    "# Create output directory if needed\n",
    "if not os.path.exists(output_dir):\n",
    "    os.makedirs(output_dir)\n",
    "\n",
    "print(f\"Saving model to {output_dir}\")\n",
    "\n",
    "# Save a trained model, configuration and tokenizer using `save_pretrained()`.\n",
    "# They can then be reloaded using `from_pretrained()`\n",
    "model_to_save = model.module if hasattr(model, 'module') else model  # Take care of distributed/parallel training\n",
    "model_to_save.save_pretrained(output_dir)\n",
    "tokenizer.save_pretrained(output_dir)\n",
    "\n",
    "# Good practice: save your training arguments together with the trained model\n",
    "#torch.save(args, os.path.join(output_dir, 'training_args.bin'))\n"
   ]
  },
  {
   "cell_type": "code",
   "execution_count": 38,
   "metadata": {
    "id": "WaXz2CrQhVyo",
    "scrolled": false
   },
   "outputs": [
    {
     "name": "stdout",
     "output_type": "stream",
     "text": [
      "./bert-base-uncased/\n",
      "huggingface/tokenizers: The current process just got forked, after parallelism has already been used. Disabling parallelism to avoid deadlocks...\n",
      "To disable this warning, you can either:\n",
      "\t- Avoid using `tokenizers` before the fork if possible\n",
      "\t- Explicitly set the environment variable TOKENIZERS_PARALLELISM=(true | false)\n",
      "./bert-base-uncased/ TranferBERT/\n",
      "huggingface/tokenizers: The current process just got forked, after parallelism has already been used. Disabling parallelism to avoid deadlocks...\n",
      "To disable this warning, you can either:\n",
      "\t- Avoid using `tokenizers` before the fork if possible\n",
      "\t- Explicitly set the environment variable TOKENIZERS_PARALLELISM=(true | false)\n"
     ]
    }
   ],
   "source": [
    "# Copy the model files to a directory\n",
    "target_dir = f\"TranferBERT/\"\n",
    "print(output_dir)\n",
    "!echo  $output_dir $target_dir\n",
    "!cp -r $output_dir $target_dir"
   ]
  },
  {
   "cell_type": "markdown",
   "metadata": {
    "id": "_tXFWVdxh7Zd"
   },
   "source": [
    "## Load Model from Drive"
   ]
  },
  {
   "cell_type": "code",
   "execution_count": 39,
   "metadata": {
    "id": "94-4pMG-h_G_",
    "scrolled": true
   },
   "outputs": [
    {
     "ename": "OSError",
     "evalue": "We couldn't connect to 'https://huggingface.co/' to load this model and it looks like TranferBERT/bert-base-uncased/ is not the path to a directory conaining a config.json file.\nCheckout your internet connection or see how to run the library in offline mode at 'https://huggingface.co/docs/transformers/installation#offline-mode'.",
     "output_type": "error",
     "traceback": [
      "\u001B[0;31m---------------------------------------------------------------------------\u001B[0m",
      "\u001B[0;31mHTTPError\u001B[0m                                 Traceback (most recent call last)",
      "\u001B[0;32m~/anaconda3/envs/whalejaguar/lib/python3.7/site-packages/transformers/configuration_utils.py\u001B[0m in \u001B[0;36m_get_config_dict\u001B[0;34m(cls, pretrained_model_name_or_path, **kwargs)\u001B[0m\n\u001B[1;32m    601\u001B[0m                 \u001B[0muse_auth_token\u001B[0m\u001B[0;34m=\u001B[0m\u001B[0muse_auth_token\u001B[0m\u001B[0;34m,\u001B[0m\u001B[0;34m\u001B[0m\u001B[0;34m\u001B[0m\u001B[0m\n\u001B[0;32m--> 602\u001B[0;31m                 \u001B[0muser_agent\u001B[0m\u001B[0;34m=\u001B[0m\u001B[0muser_agent\u001B[0m\u001B[0;34m,\u001B[0m\u001B[0;34m\u001B[0m\u001B[0;34m\u001B[0m\u001B[0m\n\u001B[0m\u001B[1;32m    603\u001B[0m             )\n",
      "\u001B[0;32m~/anaconda3/envs/whalejaguar/lib/python3.7/site-packages/transformers/file_utils.py\u001B[0m in \u001B[0;36mcached_path\u001B[0;34m(url_or_filename, cache_dir, force_download, proxies, resume_download, user_agent, extract_compressed_file, force_extract, use_auth_token, local_files_only)\u001B[0m\n\u001B[1;32m   1928\u001B[0m             \u001B[0muse_auth_token\u001B[0m\u001B[0;34m=\u001B[0m\u001B[0muse_auth_token\u001B[0m\u001B[0;34m,\u001B[0m\u001B[0;34m\u001B[0m\u001B[0;34m\u001B[0m\u001B[0m\n\u001B[0;32m-> 1929\u001B[0;31m             \u001B[0mlocal_files_only\u001B[0m\u001B[0;34m=\u001B[0m\u001B[0mlocal_files_only\u001B[0m\u001B[0;34m,\u001B[0m\u001B[0;34m\u001B[0m\u001B[0;34m\u001B[0m\u001B[0m\n\u001B[0m\u001B[1;32m   1930\u001B[0m         )\n",
      "\u001B[0;32m~/anaconda3/envs/whalejaguar/lib/python3.7/site-packages/transformers/file_utils.py\u001B[0m in \u001B[0;36mget_from_cache\u001B[0;34m(url, cache_dir, force_download, proxies, etag_timeout, resume_download, user_agent, use_auth_token, local_files_only)\u001B[0m\n\u001B[1;32m   2124\u001B[0m             \u001B[0mr\u001B[0m \u001B[0;34m=\u001B[0m \u001B[0mrequests\u001B[0m\u001B[0;34m.\u001B[0m\u001B[0mhead\u001B[0m\u001B[0;34m(\u001B[0m\u001B[0murl\u001B[0m\u001B[0;34m,\u001B[0m \u001B[0mheaders\u001B[0m\u001B[0;34m=\u001B[0m\u001B[0mheaders\u001B[0m\u001B[0;34m,\u001B[0m \u001B[0mallow_redirects\u001B[0m\u001B[0;34m=\u001B[0m\u001B[0;32mFalse\u001B[0m\u001B[0;34m,\u001B[0m \u001B[0mproxies\u001B[0m\u001B[0;34m=\u001B[0m\u001B[0mproxies\u001B[0m\u001B[0;34m,\u001B[0m \u001B[0mtimeout\u001B[0m\u001B[0;34m=\u001B[0m\u001B[0metag_timeout\u001B[0m\u001B[0;34m)\u001B[0m\u001B[0;34m\u001B[0m\u001B[0;34m\u001B[0m\u001B[0m\n\u001B[0;32m-> 2125\u001B[0;31m             \u001B[0m_raise_for_status\u001B[0m\u001B[0;34m(\u001B[0m\u001B[0mr\u001B[0m\u001B[0;34m)\u001B[0m\u001B[0;34m\u001B[0m\u001B[0;34m\u001B[0m\u001B[0m\n\u001B[0m\u001B[1;32m   2126\u001B[0m             \u001B[0metag\u001B[0m \u001B[0;34m=\u001B[0m \u001B[0mr\u001B[0m\u001B[0;34m.\u001B[0m\u001B[0mheaders\u001B[0m\u001B[0;34m.\u001B[0m\u001B[0mget\u001B[0m\u001B[0;34m(\u001B[0m\u001B[0;34m\"X-Linked-Etag\"\u001B[0m\u001B[0;34m)\u001B[0m \u001B[0;32mor\u001B[0m \u001B[0mr\u001B[0m\u001B[0;34m.\u001B[0m\u001B[0mheaders\u001B[0m\u001B[0;34m.\u001B[0m\u001B[0mget\u001B[0m\u001B[0;34m(\u001B[0m\u001B[0;34m\"ETag\"\u001B[0m\u001B[0;34m)\u001B[0m\u001B[0;34m\u001B[0m\u001B[0;34m\u001B[0m\u001B[0m\n",
      "\u001B[0;32m~/anaconda3/envs/whalejaguar/lib/python3.7/site-packages/transformers/file_utils.py\u001B[0m in \u001B[0;36m_raise_for_status\u001B[0;34m(request)\u001B[0m\n\u001B[1;32m   2051\u001B[0m \u001B[0;34m\u001B[0m\u001B[0m\n\u001B[0;32m-> 2052\u001B[0;31m     \u001B[0mrequest\u001B[0m\u001B[0;34m.\u001B[0m\u001B[0mraise_for_status\u001B[0m\u001B[0;34m(\u001B[0m\u001B[0;34m)\u001B[0m\u001B[0;34m\u001B[0m\u001B[0;34m\u001B[0m\u001B[0m\n\u001B[0m\u001B[1;32m   2053\u001B[0m \u001B[0;34m\u001B[0m\u001B[0m\n",
      "\u001B[0;32m~/anaconda3/envs/whalejaguar/lib/python3.7/site-packages/requests/models.py\u001B[0m in \u001B[0;36mraise_for_status\u001B[0;34m(self)\u001B[0m\n\u001B[1;32m    942\u001B[0m         \u001B[0;32mif\u001B[0m \u001B[0mhttp_error_msg\u001B[0m\u001B[0;34m:\u001B[0m\u001B[0;34m\u001B[0m\u001B[0;34m\u001B[0m\u001B[0m\n\u001B[0;32m--> 943\u001B[0;31m             \u001B[0;32mraise\u001B[0m \u001B[0mHTTPError\u001B[0m\u001B[0;34m(\u001B[0m\u001B[0mhttp_error_msg\u001B[0m\u001B[0;34m,\u001B[0m \u001B[0mresponse\u001B[0m\u001B[0;34m=\u001B[0m\u001B[0mself\u001B[0m\u001B[0;34m)\u001B[0m\u001B[0;34m\u001B[0m\u001B[0;34m\u001B[0m\u001B[0m\n\u001B[0m\u001B[1;32m    944\u001B[0m \u001B[0;34m\u001B[0m\u001B[0m\n",
      "\u001B[0;31mHTTPError\u001B[0m: 404 Client Error: Not Found for url: https://huggingface.co/TranferBERT/bert-base-uncased//resolve/main/config.json",
      "\nDuring handling of the above exception, another exception occurred:\n",
      "\u001B[0;31mOSError\u001B[0m                                   Traceback (most recent call last)",
      "\u001B[0;32m/tmp/ipykernel_260528/560124662.py\u001B[0m in \u001B[0;36m<module>\u001B[0;34m\u001B[0m\n\u001B[1;32m      2\u001B[0m \u001B[0;34m\u001B[0m\u001B[0m\n\u001B[1;32m      3\u001B[0m \u001B[0;31m# Load a trained model and vocabulary that you have fine-tuned\u001B[0m\u001B[0;34m\u001B[0m\u001B[0;34m\u001B[0m\u001B[0;34m\u001B[0m\u001B[0m\n\u001B[0;32m----> 4\u001B[0;31m \u001B[0mmodel\u001B[0m \u001B[0;34m=\u001B[0m \u001B[0mAutoModelForSequenceClassification\u001B[0m\u001B[0;34m.\u001B[0m\u001B[0mfrom_pretrained\u001B[0m\u001B[0;34m(\u001B[0m\u001B[0moutput_dir\u001B[0m\u001B[0;34m)\u001B[0m\u001B[0;34m\u001B[0m\u001B[0;34m\u001B[0m\u001B[0m\n\u001B[0m\u001B[1;32m      5\u001B[0m \u001B[0mtokenizer\u001B[0m \u001B[0;34m=\u001B[0m \u001B[0mAutoTokenizer\u001B[0m\u001B[0;34m.\u001B[0m\u001B[0mfrom_pretrained\u001B[0m\u001B[0;34m(\u001B[0m\u001B[0moutput_dir\u001B[0m\u001B[0;34m)\u001B[0m\u001B[0;34m\u001B[0m\u001B[0;34m\u001B[0m\u001B[0m\n\u001B[1;32m      6\u001B[0m \u001B[0;34m\u001B[0m\u001B[0m\n",
      "\u001B[0;32m~/anaconda3/envs/whalejaguar/lib/python3.7/site-packages/transformers/models/auto/auto_factory.py\u001B[0m in \u001B[0;36mfrom_pretrained\u001B[0;34m(cls, pretrained_model_name_or_path, *model_args, **kwargs)\u001B[0m\n\u001B[1;32m    423\u001B[0m         \u001B[0;32mif\u001B[0m \u001B[0;32mnot\u001B[0m \u001B[0misinstance\u001B[0m\u001B[0;34m(\u001B[0m\u001B[0mconfig\u001B[0m\u001B[0;34m,\u001B[0m \u001B[0mPretrainedConfig\u001B[0m\u001B[0;34m)\u001B[0m\u001B[0;34m:\u001B[0m\u001B[0;34m\u001B[0m\u001B[0;34m\u001B[0m\u001B[0m\n\u001B[1;32m    424\u001B[0m             config, kwargs = AutoConfig.from_pretrained(\n\u001B[0;32m--> 425\u001B[0;31m                 \u001B[0mpretrained_model_name_or_path\u001B[0m\u001B[0;34m,\u001B[0m \u001B[0mreturn_unused_kwargs\u001B[0m\u001B[0;34m=\u001B[0m\u001B[0;32mTrue\u001B[0m\u001B[0;34m,\u001B[0m \u001B[0mtrust_remote_code\u001B[0m\u001B[0;34m=\u001B[0m\u001B[0mtrust_remote_code\u001B[0m\u001B[0;34m,\u001B[0m \u001B[0;34m**\u001B[0m\u001B[0mkwargs\u001B[0m\u001B[0;34m\u001B[0m\u001B[0;34m\u001B[0m\u001B[0m\n\u001B[0m\u001B[1;32m    426\u001B[0m             )\n\u001B[1;32m    427\u001B[0m         \u001B[0;32mif\u001B[0m \u001B[0mhasattr\u001B[0m\u001B[0;34m(\u001B[0m\u001B[0mconfig\u001B[0m\u001B[0;34m,\u001B[0m \u001B[0;34m\"auto_map\"\u001B[0m\u001B[0;34m)\u001B[0m \u001B[0;32mand\u001B[0m \u001B[0mcls\u001B[0m\u001B[0;34m.\u001B[0m\u001B[0m__name__\u001B[0m \u001B[0;32min\u001B[0m \u001B[0mconfig\u001B[0m\u001B[0;34m.\u001B[0m\u001B[0mauto_map\u001B[0m\u001B[0;34m:\u001B[0m\u001B[0;34m\u001B[0m\u001B[0;34m\u001B[0m\u001B[0m\n",
      "\u001B[0;32m~/anaconda3/envs/whalejaguar/lib/python3.7/site-packages/transformers/models/auto/configuration_auto.py\u001B[0m in \u001B[0;36mfrom_pretrained\u001B[0;34m(cls, pretrained_model_name_or_path, **kwargs)\u001B[0m\n\u001B[1;32m    635\u001B[0m         \u001B[0mkwargs\u001B[0m\u001B[0;34m[\u001B[0m\u001B[0;34m\"name_or_path\"\u001B[0m\u001B[0;34m]\u001B[0m \u001B[0;34m=\u001B[0m \u001B[0mpretrained_model_name_or_path\u001B[0m\u001B[0;34m\u001B[0m\u001B[0;34m\u001B[0m\u001B[0m\n\u001B[1;32m    636\u001B[0m         \u001B[0mtrust_remote_code\u001B[0m \u001B[0;34m=\u001B[0m \u001B[0mkwargs\u001B[0m\u001B[0;34m.\u001B[0m\u001B[0mpop\u001B[0m\u001B[0;34m(\u001B[0m\u001B[0;34m\"trust_remote_code\"\u001B[0m\u001B[0;34m,\u001B[0m \u001B[0;32mFalse\u001B[0m\u001B[0;34m)\u001B[0m\u001B[0;34m\u001B[0m\u001B[0;34m\u001B[0m\u001B[0m\n\u001B[0;32m--> 637\u001B[0;31m         \u001B[0mconfig_dict\u001B[0m\u001B[0;34m,\u001B[0m \u001B[0m_\u001B[0m \u001B[0;34m=\u001B[0m \u001B[0mPretrainedConfig\u001B[0m\u001B[0;34m.\u001B[0m\u001B[0mget_config_dict\u001B[0m\u001B[0;34m(\u001B[0m\u001B[0mpretrained_model_name_or_path\u001B[0m\u001B[0;34m,\u001B[0m \u001B[0;34m**\u001B[0m\u001B[0mkwargs\u001B[0m\u001B[0;34m)\u001B[0m\u001B[0;34m\u001B[0m\u001B[0;34m\u001B[0m\u001B[0m\n\u001B[0m\u001B[1;32m    638\u001B[0m         \u001B[0;32mif\u001B[0m \u001B[0;34m\"auto_map\"\u001B[0m \u001B[0;32min\u001B[0m \u001B[0mconfig_dict\u001B[0m \u001B[0;32mand\u001B[0m \u001B[0;34m\"AutoConfig\"\u001B[0m \u001B[0;32min\u001B[0m \u001B[0mconfig_dict\u001B[0m\u001B[0;34m[\u001B[0m\u001B[0;34m\"auto_map\"\u001B[0m\u001B[0;34m]\u001B[0m\u001B[0;34m:\u001B[0m\u001B[0;34m\u001B[0m\u001B[0;34m\u001B[0m\u001B[0m\n\u001B[1;32m    639\u001B[0m             \u001B[0;32mif\u001B[0m \u001B[0;32mnot\u001B[0m \u001B[0mtrust_remote_code\u001B[0m\u001B[0;34m:\u001B[0m\u001B[0;34m\u001B[0m\u001B[0;34m\u001B[0m\u001B[0m\n",
      "\u001B[0;32m~/anaconda3/envs/whalejaguar/lib/python3.7/site-packages/transformers/configuration_utils.py\u001B[0m in \u001B[0;36mget_config_dict\u001B[0;34m(cls, pretrained_model_name_or_path, **kwargs)\u001B[0m\n\u001B[1;32m    544\u001B[0m         \u001B[0moriginal_kwargs\u001B[0m \u001B[0;34m=\u001B[0m \u001B[0mcopy\u001B[0m\u001B[0;34m.\u001B[0m\u001B[0mdeepcopy\u001B[0m\u001B[0;34m(\u001B[0m\u001B[0mkwargs\u001B[0m\u001B[0;34m)\u001B[0m\u001B[0;34m\u001B[0m\u001B[0;34m\u001B[0m\u001B[0m\n\u001B[1;32m    545\u001B[0m         \u001B[0;31m# Get config dict associated with the base config file\u001B[0m\u001B[0;34m\u001B[0m\u001B[0;34m\u001B[0m\u001B[0;34m\u001B[0m\u001B[0m\n\u001B[0;32m--> 546\u001B[0;31m         \u001B[0mconfig_dict\u001B[0m\u001B[0;34m,\u001B[0m \u001B[0mkwargs\u001B[0m \u001B[0;34m=\u001B[0m \u001B[0mcls\u001B[0m\u001B[0;34m.\u001B[0m\u001B[0m_get_config_dict\u001B[0m\u001B[0;34m(\u001B[0m\u001B[0mpretrained_model_name_or_path\u001B[0m\u001B[0;34m,\u001B[0m \u001B[0;34m**\u001B[0m\u001B[0mkwargs\u001B[0m\u001B[0;34m)\u001B[0m\u001B[0;34m\u001B[0m\u001B[0;34m\u001B[0m\u001B[0m\n\u001B[0m\u001B[1;32m    547\u001B[0m \u001B[0;34m\u001B[0m\u001B[0m\n\u001B[1;32m    548\u001B[0m         \u001B[0;31m# That config file may point us toward another config file to use.\u001B[0m\u001B[0;34m\u001B[0m\u001B[0;34m\u001B[0m\u001B[0;34m\u001B[0m\u001B[0m\n",
      "\u001B[0;32m~/anaconda3/envs/whalejaguar/lib/python3.7/site-packages/transformers/configuration_utils.py\u001B[0m in \u001B[0;36m_get_config_dict\u001B[0;34m(cls, pretrained_model_name_or_path, **kwargs)\u001B[0m\n\u001B[1;32m    622\u001B[0m         \u001B[0;32mexcept\u001B[0m \u001B[0mHTTPError\u001B[0m\u001B[0;34m:\u001B[0m\u001B[0;34m\u001B[0m\u001B[0;34m\u001B[0m\u001B[0m\n\u001B[1;32m    623\u001B[0m             raise EnvironmentError(\n\u001B[0;32m--> 624\u001B[0;31m                 \u001B[0;34m\"We couldn't connect to 'https://huggingface.co/' to load this model and it looks like \"\u001B[0m\u001B[0;34m\u001B[0m\u001B[0;34m\u001B[0m\u001B[0m\n\u001B[0m\u001B[1;32m    625\u001B[0m                 \u001B[0;34mf\"{pretrained_model_name_or_path} is not the path to a directory conaining a {configuration_file} \"\u001B[0m\u001B[0;34m\u001B[0m\u001B[0;34m\u001B[0m\u001B[0m\n\u001B[1;32m    626\u001B[0m                 \u001B[0;34m\"file.\\nCheckout your internet connection or see how to run the library in offline mode at \"\u001B[0m\u001B[0;34m\u001B[0m\u001B[0;34m\u001B[0m\u001B[0m\n",
      "\u001B[0;31mOSError\u001B[0m: We couldn't connect to 'https://huggingface.co/' to load this model and it looks like TranferBERT/bert-base-uncased/ is not the path to a directory conaining a config.json file.\nCheckout your internet connection or see how to run the library in offline mode at 'https://huggingface.co/docs/transformers/installation#offline-mode'."
     ]
    }
   ],
   "source": [
    "\n",
    "output_dir = f\"TranferBERT/{model_name}/\"\n",
    "\n",
    "# Load a trained model and vocabulary that you have fine-tuned\n",
    "model = AutoModelForSequenceClassification.from_pretrained(output_dir)\n",
    "tokenizer = AutoTokenizer.from_pretrained(output_dir)\n",
    "\n",
    "# Copy the model to the GPU.\n",
    "model.to(device)"
   ]
  },
  {
   "cell_type": "markdown",
   "metadata": {
    "id": "rT525N9VbR8n"
   },
   "source": [
    "## Predict on some sample text"
   ]
  },
  {
   "cell_type": "markdown",
   "metadata": {
    "id": "PI_uBpaWxZaY"
   },
   "source": [
    "### Prediction"
   ]
  },
  {
   "cell_type": "code",
   "execution_count": null,
   "metadata": {
    "id": "esq849IYbVj2",
    "scrolled": true
   },
   "outputs": [],
   "source": [
    "texts = [\"ola q hace\"]"
   ]
  },
  {
   "cell_type": "code",
   "execution_count": null,
   "metadata": {
    "id": "X2PSbpD9bcqa",
    "scrolled": true
   },
   "outputs": [],
   "source": [
    "input_ids = []\n",
    "attention_masks = []\n",
    "\n",
    "for text in texts:\n",
    "  encoded_dict = tokenizer.encode_plus(\n",
    "                          text,            \n",
    "                          add_special_tokens = True,\n",
    "                          max_length = 64,\n",
    "                          pad_to_max_length = True,\n",
    "                          return_attention_mask = True,\n",
    "                          return_tensors = 'pt')\n",
    "  \n",
    "  # Add the encoded sentence to the list.    \n",
    "  input_ids.append(encoded_dict['input_ids'])\n",
    "\n",
    "  # And its attention mask (simply differentiates padding from non-padding).\n",
    "  attention_masks.append(encoded_dict['attention_mask'])\n",
    "\n",
    "  # Convert the lists into tensors.\n",
    "  input_ids = torch.cat(input_ids, dim=0)\n",
    "  attention_masks = torch.cat(attention_masks, dim=0)"
   ]
  },
  {
   "cell_type": "code",
   "execution_count": null,
   "metadata": {
    "id": "mBv57F46cKST",
    "scrolled": true
   },
   "outputs": [],
   "source": [
    "# Put model in evaluation mode\n",
    "model.eval()\n",
    "\n",
    "predictions = []\n",
    "last_layer_attentions = []\n",
    "\n",
    "# Move input ids and attention masks to GPU\n",
    "input_ids = input_ids.to(device)\n",
    "attention_masks = attention_masks.to(device)\n",
    "\n",
    "for i in range(len(input_ids)):\n",
    "\n",
    "  ids = input_ids[i].unsqueeze(0)\n",
    "  masks = attention_masks[i].unsqueeze(0)\n",
    "\n",
    "  with torch.no_grad():\n",
    "      # Forward pass, calculate logit predictions\n",
    "      outputs = model(input_ids=ids,\n",
    "                      attention_mask=masks)\n",
    "\n",
    "  # Get logits and compute softmax\n",
    "  logits = outputs[0]\n",
    "  logits = torch.softmax(logits,dim=1)\n",
    "  last_layer_attention = outputs[1][-1]\n",
    "  \n",
    "  # Move logits and labels to CPU\n",
    "  logits = logits.detach().cpu().numpy()\n",
    "  last_layer_attention = last_layer_attention.detach().cpu().numpy()\n",
    "\n",
    "  last_layer_attentions.append(last_layer_attention)\n",
    "  predictions.append(logits)"
   ]
  },
  {
   "cell_type": "code",
   "execution_count": null,
   "metadata": {
    "id": "l8t_Ygply0X3",
    "scrolled": true
   },
   "outputs": [],
   "source": [
    "probs = predictions[0][0]\n",
    "print(\"text:\", texts[0])\n",
    "print(\"predictions:\", probs)\n",
    "pred_idx = np.argmax(probs)\n",
    "print(f\"Prediction: {label_names[pred_idx]} ({probs[pred_idx]:.2f})\", )"
   ]
  },
  {
   "cell_type": "code",
   "execution_count": null,
   "metadata": {
    "id": "Hi9mhLaryMNS",
    "scrolled": true
   },
   "outputs": [],
   "source": [
    "fig = plt.figure(tight_layout=True)\n",
    "ax = fig.add_subplot(1, 1, 1)\n",
    "\n",
    "y_pos = np.arange(len(label_names))\n",
    "confidences = [probs[i] for i in range(len(label_names))]\n",
    "\n",
    "ax.barh(y_pos, confidences, align='center')\n",
    "ax.set_yticks(y_pos)\n",
    "ax.set_yticklabels(label_names)\n",
    "ax.invert_yaxis()  # labels read top-to-bottom\n",
    "ax.set_xlabel('Confidence')\n",
    "\n",
    "fig.show()"
   ]
  },
  {
   "cell_type": "markdown",
   "metadata": {
    "id": "ofcRyMHTxh_f"
   },
   "source": [
    "### Visualize Attentions\n",
    "\n",
    "For each token, visualize the average over all 12 heads of the last layer's attention to the special character [CLS]. The darker the background of the token, the higher its attention"
   ]
  },
  {
   "cell_type": "code",
   "execution_count": null,
   "metadata": {
    "id": "e3r6jQpFKWWb",
    "scrolled": true
   },
   "outputs": [],
   "source": [
    "lla = last_layer_attentions[0][0][:,0,:]"
   ]
  },
  {
   "cell_type": "code",
   "execution_count": null,
   "metadata": {
    "id": "aDiU0fPDTgkF",
    "scrolled": true
   },
   "outputs": [],
   "source": [
    "def avg_token_attentions(last_layer_attentions):\n",
    "  return last_layer_attentions.mean(axis=0)"
   ]
  },
  {
   "cell_type": "code",
   "execution_count": null,
   "metadata": {
    "id": "4iYtEu5vhJPM",
    "scrolled": true
   },
   "outputs": [],
   "source": [
    "avg_token_atts = avg_token_attentions(lla)\n",
    "tokens = tokenizer.convert_ids_to_tokens(input_ids[0])"
   ]
  },
  {
   "cell_type": "code",
   "execution_count": null,
   "metadata": {
    "id": "Mpp6Q3EHoovo",
    "scrolled": true
   },
   "outputs": [],
   "source": [
    "def handle_special_token_attentions(tokens, avg_token_atts):\n",
    "  new_tokens = []\n",
    "  new_avg_token_atts = []\n",
    "  for i in range(len(tokens)):\n",
    "    if tokens[i].startswith(\"[\") or tokens[i].startswith(\"##\"):\n",
    "      continue\n",
    "    if i < tokenizer.max_len - 1 and tokens[i+1].startswith(\"##\"):\n",
    "      merged_tokens = tokens[i] + tokens[i+1][2:]\n",
    "      atts = [avg_token_atts[i], avg_token_atts[i+1]]\n",
    "      i += 1\n",
    "      while i < tokenizer.max_len - 1 and tokens[i+1].startswith(\"##\"):\n",
    "        merged_tokens += tokens[i+1][2:]\n",
    "        atts.append(avg_token_atts[i+1])\n",
    "        i += 1\n",
    "      new_tokens.append(merged_tokens)\n",
    "      new_avg_token_atts.append(sum(atts)/len(atts))\n",
    "    elif i < tokenizer.max_len - 1:\n",
    "      new_tokens.append(tokens[i])\n",
    "      new_avg_token_atts.append(avg_token_atts[i])\n",
    "  new_avg_token_atts = new_avg_token_atts / sum(new_avg_token_atts)\n",
    "  return new_tokens, new_avg_token_atts"
   ]
  },
  {
   "cell_type": "code",
   "execution_count": null,
   "metadata": {
    "id": "ZrCl0RbXmu2W",
    "scrolled": true
   },
   "outputs": [],
   "source": [
    "for token, att in zip(tokens, avg_token_atts):\n",
    "  print(token, att)"
   ]
  },
  {
   "cell_type": "code",
   "execution_count": null,
   "metadata": {
    "id": "Sa9tlNnqvgm5",
    "scrolled": true
   },
   "outputs": [],
   "source": [
    "def scale_color_h_hex(c_h, scale):\n",
    "    return matplotlib.colors.to_hex(\n",
    "        matplotlib.colors.hsv_to_rgb((c_h, scale, 1)))\n",
    "\n",
    "def blue_background_hex(scale):\n",
    "    return scale_color_h_hex(0.625, scale)"
   ]
  },
  {
   "cell_type": "code",
   "execution_count": null,
   "metadata": {
    "id": "js7LWFLMxoeA",
    "scrolled": true
   },
   "outputs": [],
   "source": [
    "from IPython import display ,html\n",
    "att_html = \"<table><tr>\"\n",
    "for token, att in zip(tokens, avg_token_atts):\n",
    "  att_html += \"<td>\"\n",
    "  att_html += \"<span style=\\\"background-color: \" + blue_background_hex(att) + \"\\\">\" + token + \"</span>\"\n",
    "  att_html += \"</td>\"\n",
    "att_html += \"</tr>\""
   ]
  },
  {
   "cell_type": "code",
   "execution_count": null,
   "metadata": {
    "id": "Ybnrhz1mzfw1",
    "scrolled": true
   },
   "outputs": [],
   "source": [
    "IPython.display.HTML(att_html) "
   ]
  },
  {
   "cell_type": "code",
   "execution_count": null,
   "metadata": {
    "scrolled": true
   },
   "outputs": [],
   "source": []
  },
  {
   "cell_type": "code",
   "execution_count": null,
   "metadata": {},
   "outputs": [],
   "source": []
  }
 ],
 "metadata": {
  "accelerator": "GPU",
  "colab": {
   "collapsed_sections": [],
   "name": "Copia de Copia de BERT_CLF_10kGNAD.ipynb",
   "provenance": []
  },
  "kernelspec": {
   "display_name": "whalejaguar",
   "language": "python",
   "name": "whalejaguar"
  },
  "language_info": {
   "codemirror_mode": {
    "name": "ipython",
    "version": 3
   },
   "file_extension": ".py",
   "mimetype": "text/x-python",
   "name": "python",
   "nbconvert_exporter": "python",
   "pygments_lexer": "ipython3",
   "version": "3.7.12"
  }
 },
 "nbformat": 4,
 "nbformat_minor": 1
}